{
 "cells": [
  {
   "cell_type": "code",
   "execution_count": 1,
   "metadata": {},
   "outputs": [],
   "source": [
    "import numpy as np\n",
    "import pandas as pd\n",
    "import matplotlib.pyplot as pp\n",
    "\n",
    "from datetime import datetime, timedelta\n",
    "from stats_can import StatsCan"
   ]
  },
  {
   "cell_type": "code",
   "execution_count": 63,
   "metadata": {},
   "outputs": [],
   "source": [
    "date_1 = '2014-08-03'\n",
    "date_2 = '2018-07-29'"
   ]
  },
  {
   "cell_type": "code",
   "execution_count": 64,
   "metadata": {
    "scrolled": true
   },
   "outputs": [],
   "source": [
    "date_1_c = pd.Timestamp(date_1)\n",
    "date_2_c = pd.Timestamp(date_2)"
   ]
  },
  {
   "cell_type": "code",
   "execution_count": 65,
   "metadata": {},
   "outputs": [],
   "source": [
    "iv = pd.date_range(date_1_c, \n",
    "                   date_2_c, \n",
    "                   freq='W-SUN')"
   ]
  },
  {
   "cell_type": "code",
   "execution_count": 66,
   "metadata": {},
   "outputs": [
    {
     "data": {
      "text/plain": [
       "209"
      ]
     },
     "execution_count": 66,
     "metadata": {},
     "output_type": "execute_result"
    }
   ],
   "source": [
    "len(iv)"
   ]
  },
  {
   "cell_type": "code",
   "execution_count": 67,
   "metadata": {},
   "outputs": [
    {
     "data": {
      "text/plain": [
       "DatetimeIndex(['2014-08-03', '2014-08-10', '2014-08-17', '2014-08-24',\n",
       "               '2014-08-31', '2014-09-07', '2014-09-14', '2014-09-21',\n",
       "               '2014-09-28', '2014-10-05',\n",
       "               ...\n",
       "               '2018-05-27', '2018-06-03', '2018-06-10', '2018-06-17',\n",
       "               '2018-06-24', '2018-07-01', '2018-07-08', '2018-07-15',\n",
       "               '2018-07-22', '2018-07-29'],\n",
       "              dtype='datetime64[ns]', length=209, freq='W-SUN')"
      ]
     },
     "execution_count": 67,
     "metadata": {},
     "output_type": "execute_result"
    }
   ],
   "source": [
    "iv"
   ]
  },
  {
   "cell_type": "code",
   "execution_count": 41,
   "metadata": {},
   "outputs": [],
   "source": [
    "df = pd.DataFrame()"
   ]
  },
  {
   "cell_type": "code",
   "execution_count": 42,
   "metadata": {},
   "outputs": [],
   "source": [
    "df['date'] = iv"
   ]
  },
  {
   "cell_type": "code",
   "execution_count": 43,
   "metadata": {},
   "outputs": [
    {
     "name": "stdout",
     "output_type": "stream",
     "text": [
      "<class 'pandas.core.frame.DataFrame'>\n",
      "RangeIndex: 66 entries, 0 to 65\n",
      "Data columns (total 1 columns):\n",
      " #   Column  Non-Null Count  Dtype         \n",
      "---  ------  --------------  -----         \n",
      " 0   date    66 non-null     datetime64[ns]\n",
      "dtypes: datetime64[ns](1)\n",
      "memory usage: 656.0 bytes\n"
     ]
    }
   ],
   "source": [
    "df.info()"
   ]
  },
  {
   "cell_type": "code",
   "execution_count": 44,
   "metadata": {},
   "outputs": [],
   "source": [
    "# Function to pull economic data from Statistics Canada\n",
    "\n",
    "\n",
    "\n",
    "# sc = StatsCan()\n",
    "# econ_df = sc.vectors_to_df_remote('v2062815', periods = 360)\n",
    "# econ_df.columns = ['unemployment_rate']\n",
    "# econ_df = econ_df.reset_index()\n",
    "\n",
    "# econ_df['refPer_yr_mth'] = [item for item in zip(econ_df['refPer'].dt.year, econ_df['refPer'].dt.month)]\n",
    "    \n",
    "# df['date_row_yr_mth'] = [item for item in zip(df['date'].dt.year, df['date'].dt.month)]\n",
    "\n",
    "# data_vectors_dict = {'Monthly GDP Growth Rate (Annualised)': 'v65201210', \n",
    "#                      'Monthly Inflation Rate (Annualised)': 'v41690973', \n",
    "#                      'Unemployment Rate':'v2062815'}\n",
    "\n",
    "def append_monthly_unemployment_rate(df, date_row):\n",
    "    sc = StatsCan() # Instantiate StatsCan object\n",
    "    econ_df = sc.vectors_to_df_remote('v2062815', periods = 360) # Pull monthly unemployment rate\n",
    "    econ_df.columns = ['unemployment_rate']\n",
    "    econ_df = econ_df.reset_index()\n",
    "    \n",
    "    # \n",
    "    econ_df['refPer_yr_mth'] = [item for item in zip(econ_df['refPer'].dt.year, econ_df['refPer'].dt.month)]\n",
    "    \n",
    "    df['date_row_yr_mth'] = [item for item in zip(df[date_row].dt.year, df[date_row].dt.month)]\n",
    "    \n",
    "    df_merge_orig_gdp = pd.merge(df, \n",
    "                                econ_df, \n",
    "                                how = 'left', \n",
    "                                left_on='date_row_yr_mth', \n",
    "                                right_on='refPer_yr_mth')\n",
    "    \n",
    "    df_merge_orig_gdp = df_merge_orig_gdp.loc[:,['date', 'unemployment_rate']]\n",
    "    \n",
    "    return df_merge_orig_gdp\n"
   ]
  },
  {
   "cell_type": "code",
   "execution_count": 45,
   "metadata": {},
   "outputs": [],
   "source": [
    "df = append_monthly_unemployment_rate(df, 'date')"
   ]
  },
  {
   "cell_type": "code",
   "execution_count": 11,
   "metadata": {},
   "outputs": [
    {
     "data": {
      "text/plain": [
       "[<matplotlib.lines.Line2D at 0x1997f529e08>]"
      ]
     },
     "execution_count": 11,
     "metadata": {},
     "output_type": "execute_result"
    },
    {
     "data": {
      "image/png": "[encoded data removed]",
      "text/plain": [
       "<Figure size 432x288 with 1 Axes>"
      ]
     },
     "metadata": {
      "needs_background": "light"
     },
     "output_type": "display_data"
    }
   ],
   "source": [
    "pp.plot(df['date'], df['unemployment_rate'])"
   ]
  },
  {
   "cell_type": "code",
   "execution_count": 60,
   "metadata": {},
   "outputs": [],
   "source": [
    "def make_dataframe(start_date, end_date, include_econ_indicators=True):\n",
    "        '''\n",
    "        When function is called, returns a Pandas dataframe with time interval every sunday \n",
    "        including the first one before the `start_date` and the last one before `end_date`.\n",
    "        start_date, end_date: input in the yyyy-mm-dd format\n",
    "        include_econ_indicators: True by default. Pulls unemployment, monthly CPI, and monthly GDP data from Statistics Canada using stats_can API\n",
    "        TO-DO: GDP: True by default. Pulls monthly GDP  from Statistics Canada using stats_can API\n",
    "        '''\n",
    "        start_date_ts = pd.Timestamp(start_date)\n",
    "        end_date_ts = pd.Timestamp(end_date)\n",
    "\n",
    "        df = pd.DataFrame()\n",
    "        df['date'] = pd.date_range(start_date_ts, end_date_ts, freq = 'W-SUN')\n",
    "        df['date_row_yr_mth'] = [item for item in zip(df['date'].dt.year, df['date'].dt.month)]\n",
    "\n",
    "        if include_econ_indicators:\n",
    "            sc = StatsCan()\n",
    "            unem_df = sc.vectors_to_df_remote('v2062815', periods = 360)\n",
    "            unem_df.columns = ['unemployment_rate']\n",
    "            unem_df = unem_df.reset_index()\n",
    "\n",
    "            gdp_df = sc.vectors_to_df_remote('v65201210', periods = 360)\n",
    "            gdp_df.columns = ['monthly_gdp']\n",
    "            gdp_df = gdp_df.reset_index()\n",
    "            \n",
    "            cpi_df = sc.vectors_to_df_remote('v41690973', periods = 360)\n",
    "            cpi_df.columns = ['monthly_cpi']\n",
    "            cpi_df = cpi_df.reset_index()\n",
    "\n",
    "            econ_df = pd.merge(unem_df, gdp_df, on='refPer', how='inner')\n",
    "            econ_df = econ_df.merge(cpi_df, on='refPer')\n",
    "            \n",
    "            econ_df['refPer_yr_mth'] = [item for item in zip(econ_df['refPer'].dt.year, econ_df['refPer'].dt.month)]\n",
    "            \n",
    "            df_merge_orig_gdp = pd.merge(df, \n",
    "                                    econ_df, \n",
    "                                    how = 'inner', \n",
    "                                    right_on='refPer_yr_mth',\n",
    "                                    left_on='date_row_yr_mth')\n",
    "        \n",
    "            df_merge_orig_gdp = df_merge_orig_gdp.drop(['refPer_yr_mth','date_row_yr_mth','refPer'], axis = 1)\n",
    "\n",
    "            return df_merge_orig_gdp\n",
    "\n",
    "        else:\n",
    "            return df"
   ]
  },
  {
   "cell_type": "code",
   "execution_count": 61,
   "metadata": {
    "scrolled": false
   },
   "outputs": [
    {
     "data": {
      "text/html": [
       "<div>\n",
       "<style scoped>\n",
       "    .dataframe tbody tr th:only-of-type {\n",
       "        vertical-align: middle;\n",
       "    }\n",
       "\n",
       "    .dataframe tbody tr th {\n",
       "        vertical-align: top;\n",
       "    }\n",
       "\n",
       "    .dataframe thead th {\n",
       "        text-align: right;\n",
       "    }\n",
       "</style>\n",
       "<table border=\"1\" class=\"dataframe\">\n",
       "  <thead>\n",
       "    <tr style=\"text-align: right;\">\n",
       "      <th></th>\n",
       "      <th>date</th>\n",
       "      <th>unemployment_rate</th>\n",
       "      <th>monthly_gdp</th>\n",
       "      <th>monthly_cpi</th>\n",
       "    </tr>\n",
       "  </thead>\n",
       "  <tbody>\n",
       "    <tr>\n",
       "      <th>0</th>\n",
       "      <td>2014-08-03</td>\n",
       "      <td>7.0</td>\n",
       "      <td>1809135.0</td>\n",
       "      <td>125.7</td>\n",
       "    </tr>\n",
       "    <tr>\n",
       "      <th>1</th>\n",
       "      <td>2014-08-10</td>\n",
       "      <td>7.0</td>\n",
       "      <td>1809135.0</td>\n",
       "      <td>125.7</td>\n",
       "    </tr>\n",
       "    <tr>\n",
       "      <th>2</th>\n",
       "      <td>2014-08-17</td>\n",
       "      <td>7.0</td>\n",
       "      <td>1809135.0</td>\n",
       "      <td>125.7</td>\n",
       "    </tr>\n",
       "    <tr>\n",
       "      <th>3</th>\n",
       "      <td>2014-08-24</td>\n",
       "      <td>7.0</td>\n",
       "      <td>1809135.0</td>\n",
       "      <td>125.7</td>\n",
       "    </tr>\n",
       "    <tr>\n",
       "      <th>4</th>\n",
       "      <td>2014-08-31</td>\n",
       "      <td>7.0</td>\n",
       "      <td>1809135.0</td>\n",
       "      <td>125.7</td>\n",
       "    </tr>\n",
       "    <tr>\n",
       "      <th>...</th>\n",
       "      <td>...</td>\n",
       "      <td>...</td>\n",
       "      <td>...</td>\n",
       "      <td>...</td>\n",
       "    </tr>\n",
       "    <tr>\n",
       "      <th>204</th>\n",
       "      <td>2018-07-01</td>\n",
       "      <td>5.8</td>\n",
       "      <td>1952354.0</td>\n",
       "      <td>134.3</td>\n",
       "    </tr>\n",
       "    <tr>\n",
       "      <th>205</th>\n",
       "      <td>2018-07-08</td>\n",
       "      <td>5.8</td>\n",
       "      <td>1952354.0</td>\n",
       "      <td>134.3</td>\n",
       "    </tr>\n",
       "    <tr>\n",
       "      <th>206</th>\n",
       "      <td>2018-07-15</td>\n",
       "      <td>5.8</td>\n",
       "      <td>1952354.0</td>\n",
       "      <td>134.3</td>\n",
       "    </tr>\n",
       "    <tr>\n",
       "      <th>207</th>\n",
       "      <td>2018-07-22</td>\n",
       "      <td>5.8</td>\n",
       "      <td>1952354.0</td>\n",
       "      <td>134.3</td>\n",
       "    </tr>\n",
       "    <tr>\n",
       "      <th>208</th>\n",
       "      <td>2018-07-29</td>\n",
       "      <td>5.8</td>\n",
       "      <td>1952354.0</td>\n",
       "      <td>134.3</td>\n",
       "    </tr>\n",
       "  </tbody>\n",
       "</table>\n",
       "<p>209 rows × 4 columns</p>\n",
       "</div>"
      ],
      "text/plain": [
       "          date  unemployment_rate  monthly_gdp  monthly_cpi\n",
       "0   2014-08-03                7.0    1809135.0        125.7\n",
       "1   2014-08-10                7.0    1809135.0        125.7\n",
       "2   2014-08-17                7.0    1809135.0        125.7\n",
       "3   2014-08-24                7.0    1809135.0        125.7\n",
       "4   2014-08-31                7.0    1809135.0        125.7\n",
       "..         ...                ...          ...          ...\n",
       "204 2018-07-01                5.8    1952354.0        134.3\n",
       "205 2018-07-08                5.8    1952354.0        134.3\n",
       "206 2018-07-15                5.8    1952354.0        134.3\n",
       "207 2018-07-22                5.8    1952354.0        134.3\n",
       "208 2018-07-29                5.8    1952354.0        134.3\n",
       "\n",
       "[209 rows x 4 columns]"
      ]
     },
     "execution_count": 61,
     "metadata": {},
     "output_type": "execute_result"
    }
   ],
   "source": [
    "make_dataframe(date_1, date_2)"
   ]
  },
  {
   "cell_type": "code",
   "execution_count": 53,
   "metadata": {},
   "outputs": [
    {
     "data": {
      "text/html": [
       "<div>\n",
       "<style scoped>\n",
       "    .dataframe tbody tr th:only-of-type {\n",
       "        vertical-align: middle;\n",
       "    }\n",
       "\n",
       "    .dataframe tbody tr th {\n",
       "        vertical-align: top;\n",
       "    }\n",
       "\n",
       "    .dataframe thead th {\n",
       "        text-align: right;\n",
       "    }\n",
       "</style>\n",
       "<table border=\"1\" class=\"dataframe\">\n",
       "  <thead>\n",
       "    <tr style=\"text-align: right;\">\n",
       "      <th></th>\n",
       "      <th>wk_strt_dt</th>\n",
       "      <th>yr_nbr</th>\n",
       "      <th>qtr_nbr</th>\n",
       "      <th>prd</th>\n",
       "      <th>wk_nbr</th>\n",
       "      <th>wk_in_yr_nbr</th>\n",
       "      <th>mdip_dm</th>\n",
       "      <th>mdip_inst</th>\n",
       "      <th>mdip_nsp</th>\n",
       "      <th>mdip_auddig</th>\n",
       "      <th>...</th>\n",
       "      <th>st_ct</th>\n",
       "      <th>mrkdn_valadd_edw</th>\n",
       "      <th>mrkdn_pdm</th>\n",
       "      <th>va_pub_0.15</th>\n",
       "      <th>va_pub_0.2</th>\n",
       "      <th>va_pub_0.25</th>\n",
       "      <th>va_pub_0.3</th>\n",
       "      <th>Electronics</th>\n",
       "      <th>unemployment_rate</th>\n",
       "      <th>is_holiday_week</th>\n",
       "    </tr>\n",
       "  </thead>\n",
       "  <tbody>\n",
       "    <tr>\n",
       "      <th>0</th>\n",
       "      <td>2014-08-03</td>\n",
       "      <td>2014</td>\n",
       "      <td>3</td>\n",
       "      <td>7</td>\n",
       "      <td>1</td>\n",
       "      <td>27</td>\n",
       "      <td>4863885</td>\n",
       "      <td>29087520</td>\n",
       "      <td>2421933</td>\n",
       "      <td>692315</td>\n",
       "      <td>...</td>\n",
       "      <td>716.285714</td>\n",
       "      <td>0.000000</td>\n",
       "      <td>0.368029</td>\n",
       "      <td>1</td>\n",
       "      <td>0</td>\n",
       "      <td>0</td>\n",
       "      <td>0</td>\n",
       "      <td>63</td>\n",
       "      <td>7.0</td>\n",
       "      <td>0</td>\n",
       "    </tr>\n",
       "    <tr>\n",
       "      <th>1</th>\n",
       "      <td>2014-08-10</td>\n",
       "      <td>2014</td>\n",
       "      <td>3</td>\n",
       "      <td>7</td>\n",
       "      <td>2</td>\n",
       "      <td>28</td>\n",
       "      <td>20887502</td>\n",
       "      <td>8345120</td>\n",
       "      <td>3984494</td>\n",
       "      <td>475810</td>\n",
       "      <td>...</td>\n",
       "      <td>716.428571</td>\n",
       "      <td>0.000000</td>\n",
       "      <td>0.360911</td>\n",
       "      <td>1</td>\n",
       "      <td>0</td>\n",
       "      <td>0</td>\n",
       "      <td>0</td>\n",
       "      <td>54</td>\n",
       "      <td>7.0</td>\n",
       "      <td>0</td>\n",
       "    </tr>\n",
       "    <tr>\n",
       "      <th>2</th>\n",
       "      <td>2014-08-17</td>\n",
       "      <td>2014</td>\n",
       "      <td>3</td>\n",
       "      <td>7</td>\n",
       "      <td>3</td>\n",
       "      <td>29</td>\n",
       "      <td>11097724</td>\n",
       "      <td>17276800</td>\n",
       "      <td>1846832</td>\n",
       "      <td>784732</td>\n",
       "      <td>...</td>\n",
       "      <td>717.000000</td>\n",
       "      <td>0.000000</td>\n",
       "      <td>0.344832</td>\n",
       "      <td>1</td>\n",
       "      <td>1</td>\n",
       "      <td>0</td>\n",
       "      <td>0</td>\n",
       "      <td>54</td>\n",
       "      <td>7.0</td>\n",
       "      <td>0</td>\n",
       "    </tr>\n",
       "    <tr>\n",
       "      <th>3</th>\n",
       "      <td>2014-08-24</td>\n",
       "      <td>2014</td>\n",
       "      <td>3</td>\n",
       "      <td>7</td>\n",
       "      <td>4</td>\n",
       "      <td>30</td>\n",
       "      <td>1023446</td>\n",
       "      <td>18468480</td>\n",
       "      <td>2394834</td>\n",
       "      <td>1032301</td>\n",
       "      <td>...</td>\n",
       "      <td>717.000000</td>\n",
       "      <td>0.000000</td>\n",
       "      <td>0.356973</td>\n",
       "      <td>1</td>\n",
       "      <td>1</td>\n",
       "      <td>0</td>\n",
       "      <td>0</td>\n",
       "      <td>45</td>\n",
       "      <td>7.0</td>\n",
       "      <td>0</td>\n",
       "    </tr>\n",
       "    <tr>\n",
       "      <th>4</th>\n",
       "      <td>2014-08-31</td>\n",
       "      <td>2014</td>\n",
       "      <td>3</td>\n",
       "      <td>8</td>\n",
       "      <td>1</td>\n",
       "      <td>31</td>\n",
       "      <td>21109811</td>\n",
       "      <td>26659920</td>\n",
       "      <td>3312008</td>\n",
       "      <td>400456</td>\n",
       "      <td>...</td>\n",
       "      <td>717.000000</td>\n",
       "      <td>0.000000</td>\n",
       "      <td>0.359990</td>\n",
       "      <td>0</td>\n",
       "      <td>1</td>\n",
       "      <td>0</td>\n",
       "      <td>0</td>\n",
       "      <td>52</td>\n",
       "      <td>7.0</td>\n",
       "      <td>1</td>\n",
       "    </tr>\n",
       "    <tr>\n",
       "      <th>...</th>\n",
       "      <td>...</td>\n",
       "      <td>...</td>\n",
       "      <td>...</td>\n",
       "      <td>...</td>\n",
       "      <td>...</td>\n",
       "      <td>...</td>\n",
       "      <td>...</td>\n",
       "      <td>...</td>\n",
       "      <td>...</td>\n",
       "      <td>...</td>\n",
       "      <td>...</td>\n",
       "      <td>...</td>\n",
       "      <td>...</td>\n",
       "      <td>...</td>\n",
       "      <td>...</td>\n",
       "      <td>...</td>\n",
       "      <td>...</td>\n",
       "      <td>...</td>\n",
       "      <td>...</td>\n",
       "      <td>...</td>\n",
       "      <td>...</td>\n",
       "    </tr>\n",
       "    <tr>\n",
       "      <th>204</th>\n",
       "      <td>2018-07-01</td>\n",
       "      <td>2018</td>\n",
       "      <td>2</td>\n",
       "      <td>5</td>\n",
       "      <td>5</td>\n",
       "      <td>22</td>\n",
       "      <td>13038</td>\n",
       "      <td>13828188</td>\n",
       "      <td>387</td>\n",
       "      <td>2135131</td>\n",
       "      <td>...</td>\n",
       "      <td>599.000000</td>\n",
       "      <td>0.415964</td>\n",
       "      <td>0.371423</td>\n",
       "      <td>0</td>\n",
       "      <td>1</td>\n",
       "      <td>0</td>\n",
       "      <td>0</td>\n",
       "      <td>41</td>\n",
       "      <td>5.8</td>\n",
       "      <td>1</td>\n",
       "    </tr>\n",
       "    <tr>\n",
       "      <th>205</th>\n",
       "      <td>2018-07-08</td>\n",
       "      <td>2018</td>\n",
       "      <td>2</td>\n",
       "      <td>6</td>\n",
       "      <td>1</td>\n",
       "      <td>23</td>\n",
       "      <td>0</td>\n",
       "      <td>3714294</td>\n",
       "      <td>0</td>\n",
       "      <td>1448480</td>\n",
       "      <td>...</td>\n",
       "      <td>599.000000</td>\n",
       "      <td>0.457615</td>\n",
       "      <td>0.372676</td>\n",
       "      <td>0</td>\n",
       "      <td>1</td>\n",
       "      <td>1</td>\n",
       "      <td>0</td>\n",
       "      <td>45</td>\n",
       "      <td>5.8</td>\n",
       "      <td>1</td>\n",
       "    </tr>\n",
       "    <tr>\n",
       "      <th>206</th>\n",
       "      <td>2018-07-15</td>\n",
       "      <td>2018</td>\n",
       "      <td>2</td>\n",
       "      <td>6</td>\n",
       "      <td>2</td>\n",
       "      <td>24</td>\n",
       "      <td>2225092</td>\n",
       "      <td>5102353</td>\n",
       "      <td>0</td>\n",
       "      <td>1307764</td>\n",
       "      <td>...</td>\n",
       "      <td>599.000000</td>\n",
       "      <td>0.382469</td>\n",
       "      <td>0.363597</td>\n",
       "      <td>0</td>\n",
       "      <td>0</td>\n",
       "      <td>1</td>\n",
       "      <td>0</td>\n",
       "      <td>47</td>\n",
       "      <td>5.8</td>\n",
       "      <td>0</td>\n",
       "    </tr>\n",
       "    <tr>\n",
       "      <th>207</th>\n",
       "      <td>2018-07-22</td>\n",
       "      <td>2018</td>\n",
       "      <td>2</td>\n",
       "      <td>6</td>\n",
       "      <td>3</td>\n",
       "      <td>25</td>\n",
       "      <td>17544331</td>\n",
       "      <td>1478566</td>\n",
       "      <td>1891</td>\n",
       "      <td>510539</td>\n",
       "      <td>...</td>\n",
       "      <td>599.000000</td>\n",
       "      <td>0.272084</td>\n",
       "      <td>0.360448</td>\n",
       "      <td>0</td>\n",
       "      <td>1</td>\n",
       "      <td>0</td>\n",
       "      <td>0</td>\n",
       "      <td>44</td>\n",
       "      <td>5.8</td>\n",
       "      <td>0</td>\n",
       "    </tr>\n",
       "    <tr>\n",
       "      <th>208</th>\n",
       "      <td>2018-07-29</td>\n",
       "      <td>2018</td>\n",
       "      <td>2</td>\n",
       "      <td>6</td>\n",
       "      <td>4</td>\n",
       "      <td>26</td>\n",
       "      <td>30800</td>\n",
       "      <td>3106708</td>\n",
       "      <td>450</td>\n",
       "      <td>108614</td>\n",
       "      <td>...</td>\n",
       "      <td>599.000000</td>\n",
       "      <td>0.325676</td>\n",
       "      <td>0.362766</td>\n",
       "      <td>0</td>\n",
       "      <td>1</td>\n",
       "      <td>0</td>\n",
       "      <td>0</td>\n",
       "      <td>44</td>\n",
       "      <td>5.8</td>\n",
       "      <td>0</td>\n",
       "    </tr>\n",
       "  </tbody>\n",
       "</table>\n",
       "<p>209 rows × 42 columns</p>\n",
       "</div>"
      ],
      "text/plain": [
       "     wk_strt_dt  yr_nbr  qtr_nbr  prd  wk_nbr  wk_in_yr_nbr   mdip_dm  \\\n",
       "0    2014-08-03    2014        3    7       1            27   4863885   \n",
       "1    2014-08-10    2014        3    7       2            28  20887502   \n",
       "2    2014-08-17    2014        3    7       3            29  11097724   \n",
       "3    2014-08-24    2014        3    7       4            30   1023446   \n",
       "4    2014-08-31    2014        3    8       1            31  21109811   \n",
       "..          ...     ...      ...  ...     ...           ...       ...   \n",
       "204  2018-07-01    2018        2    5       5            22     13038   \n",
       "205  2018-07-08    2018        2    6       1            23         0   \n",
       "206  2018-07-15    2018        2    6       2            24   2225092   \n",
       "207  2018-07-22    2018        2    6       3            25  17544331   \n",
       "208  2018-07-29    2018        2    6       4            26     30800   \n",
       "\n",
       "     mdip_inst  mdip_nsp  mdip_auddig  ...       st_ct  mrkdn_valadd_edw  \\\n",
       "0     29087520   2421933       692315  ...  716.285714          0.000000   \n",
       "1      8345120   3984494       475810  ...  716.428571          0.000000   \n",
       "2     17276800   1846832       784732  ...  717.000000          0.000000   \n",
       "3     18468480   2394834      1032301  ...  717.000000          0.000000   \n",
       "4     26659920   3312008       400456  ...  717.000000          0.000000   \n",
       "..         ...       ...          ...  ...         ...               ...   \n",
       "204   13828188       387      2135131  ...  599.000000          0.415964   \n",
       "205    3714294         0      1448480  ...  599.000000          0.457615   \n",
       "206    5102353         0      1307764  ...  599.000000          0.382469   \n",
       "207    1478566      1891       510539  ...  599.000000          0.272084   \n",
       "208    3106708       450       108614  ...  599.000000          0.325676   \n",
       "\n",
       "     mrkdn_pdm  va_pub_0.15  va_pub_0.2  va_pub_0.25  va_pub_0.3  Electronics  \\\n",
       "0     0.368029            1           0            0           0           63   \n",
       "1     0.360911            1           0            0           0           54   \n",
       "2     0.344832            1           1            0           0           54   \n",
       "3     0.356973            1           1            0           0           45   \n",
       "4     0.359990            0           1            0           0           52   \n",
       "..         ...          ...         ...          ...         ...          ...   \n",
       "204   0.371423            0           1            0           0           41   \n",
       "205   0.372676            0           1            1           0           45   \n",
       "206   0.363597            0           0            1           0           47   \n",
       "207   0.360448            0           1            0           0           44   \n",
       "208   0.362766            0           1            0           0           44   \n",
       "\n",
       "     unemployment_rate  is_holiday_week  \n",
       "0                  7.0                0  \n",
       "1                  7.0                0  \n",
       "2                  7.0                0  \n",
       "3                  7.0                0  \n",
       "4                  7.0                1  \n",
       "..                 ...              ...  \n",
       "204                5.8                1  \n",
       "205                5.8                1  \n",
       "206                5.8                0  \n",
       "207                5.8                0  \n",
       "208                5.8                0  \n",
       "\n",
       "[209 rows x 42 columns]"
      ]
     },
     "execution_count": 53,
     "metadata": {},
     "output_type": "execute_result"
    }
   ],
   "source": [
    "data = pd.read_csv('../data_cleaned.csv')\n",
    "data"
   ]
  },
  {
   "cell_type": "code",
   "execution_count": 54,
   "metadata": {
    "scrolled": true
   },
   "outputs": [
    {
     "data": {
      "text/plain": [
       "Index(['wk_strt_dt', 'yr_nbr', 'qtr_nbr', 'prd', 'wk_nbr', 'wk_in_yr_nbr',\n",
       "       'mdip_dm', 'mdip_inst', 'mdip_nsp', 'mdip_auddig', 'mdip_audtr',\n",
       "       'mdip_vidtr', 'mdip_viddig', 'mdip_so', 'mdip_on', 'mdip_em',\n",
       "       'mdip_sms', 'mdip_aff', 'mdip_sem', 'mdsp_dm', 'mdsp_inst', 'mdsp_nsp',\n",
       "       'mdsp_auddig', 'mdsp_audtr', 'mdsp_vidtr', 'mdsp_viddig', 'mdsp_so',\n",
       "       'mdsp_on', 'mdsp_sem', 'sales', 'me_ics_all', 'me_gas_dpg', 'st_ct',\n",
       "       'mrkdn_valadd_edw', 'mrkdn_pdm', 'va_pub_0.15', 'va_pub_0.2',\n",
       "       'va_pub_0.25', 'va_pub_0.3', 'Electronics', 'unemployment_rate',\n",
       "       'is_holiday_week'],\n",
       "      dtype='object')"
      ]
     },
     "execution_count": 54,
     "metadata": {},
     "output_type": "execute_result"
    }
   ],
   "source": [
    "data.columns"
   ]
  },
  {
   "cell_type": "code",
   "execution_count": 55,
   "metadata": {},
   "outputs": [
    {
     "data": {
      "text/plain": [
       "0      2014-08-03\n",
       "1      2014-08-10\n",
       "2      2014-08-17\n",
       "3      2014-08-24\n",
       "4      2014-08-31\n",
       "          ...    \n",
       "204    2018-07-01\n",
       "205    2018-07-08\n",
       "206    2018-07-15\n",
       "207    2018-07-22\n",
       "208    2018-07-29\n",
       "Name: wk_strt_dt, Length: 209, dtype: object"
      ]
     },
     "execution_count": 55,
     "metadata": {},
     "output_type": "execute_result"
    }
   ],
   "source": [
    "data['wk_strt_dt']"
   ]
  },
  {
   "cell_type": "markdown",
   "metadata": {},
   "source": [
    "## Holidays in week leading up to date"
   ]
  },
  {
   "cell_type": "code",
   "execution_count": 16,
   "metadata": {},
   "outputs": [],
   "source": [
    "import holidays"
   ]
  },
  {
   "cell_type": "code",
   "execution_count": 17,
   "metadata": {},
   "outputs": [],
   "source": [
    "ca_holidays = holidays.Canada()"
   ]
  },
  {
   "cell_type": "code",
   "execution_count": 32,
   "metadata": {},
   "outputs": [
    {
     "data": {
      "text/plain": [
       "True"
      ]
     },
     "execution_count": 32,
     "metadata": {},
     "output_type": "execute_result"
    }
   ],
   "source": [
    "pd.Timestamp('2019-01-01') in ca_holidays"
   ]
  },
  {
   "cell_type": "code",
   "execution_count": 33,
   "metadata": {},
   "outputs": [
    {
     "ename": "TypeError",
     "evalue": "Addition/subtraction of integers and integer-arrays with Timestamp is no longer supported.  Instead of adding/subtracting `n`, use `n * obj.freq`",
     "output_type": "error",
     "traceback": [
      "\u001b[1;31m---------------------------------------------------------------------------\u001b[0m",
      "\u001b[1;31mTypeError\u001b[0m                                 Traceback (most recent call last)",
      "\u001b[1;32m<ipython-input-33-66a4c8615d02>\u001b[0m in \u001b[0;36m<module>\u001b[1;34m\u001b[0m\n\u001b[1;32m----> 1\u001b[1;33m \u001b[0mpd\u001b[0m\u001b[1;33m.\u001b[0m\u001b[0mTimestamp\u001b[0m\u001b[1;33m(\u001b[0m\u001b[1;34m'2019-01-01'\u001b[0m\u001b[1;33m)\u001b[0m \u001b[1;33m-\u001b[0m \u001b[1;36m7\u001b[0m\u001b[1;33m\u001b[0m\u001b[1;33m\u001b[0m\u001b[0m\n\u001b[0m",
      "\u001b[1;32mpandas\\_libs\\tslibs\\timestamps.pyx\u001b[0m in \u001b[0;36mpandas._libs.tslibs.timestamps._Timestamp.__sub__\u001b[1;34m()\u001b[0m\n",
      "\u001b[1;32mpandas\\_libs\\tslibs\\timestamps.pyx\u001b[0m in \u001b[0;36mpandas._libs.tslibs.timestamps._Timestamp.__add__\u001b[1;34m()\u001b[0m\n",
      "\u001b[1;31mTypeError\u001b[0m: Addition/subtraction of integers and integer-arrays with Timestamp is no longer supported.  Instead of adding/subtracting `n`, use `n * obj.freq`"
     ]
    }
   ],
   "source": [
    "pd.Timestamp('2019-01-01') - 7"
   ]
  },
  {
   "cell_type": "code",
   "execution_count": 26,
   "metadata": {},
   "outputs": [],
   "source": [
    "iv_d = pd.date_range(pd.Timestamp('2019-01-01'), \n",
    "                   pd.Timestamp('2019-01-01'), \n",
    "                   freq='D', \n",
    "                   closed='right')"
   ]
  },
  {
   "cell_type": "code",
   "execution_count": 27,
   "metadata": {},
   "outputs": [
    {
     "data": {
      "text/plain": [
       "DatetimeIndex(['2019-08-02', '2019-08-03', '2019-08-04', '2019-08-05',\n",
       "               '2019-08-06', '2019-08-07', '2019-08-08', '2019-08-09',\n",
       "               '2019-08-10', '2019-08-11',\n",
       "               ...\n",
       "               '2020-07-23', '2020-07-24', '2020-07-25', '2020-07-26',\n",
       "               '2020-07-27', '2020-07-28', '2020-07-29', '2020-07-30',\n",
       "               '2020-07-31', '2020-08-01'],\n",
       "              dtype='datetime64[ns]', length=366, freq='D')"
      ]
     },
     "execution_count": 27,
     "metadata": {},
     "output_type": "execute_result"
    }
   ],
   "source": [
    "iv_d"
   ]
  }
 ],
 "metadata": {
  "kernelspec": {
   "display_name": "Python 3",
   "language": "python",
   "name": "python3"
  },
  "language_info": {
   "codemirror_mode": {
    "name": "ipython",
    "version": 3
   },
   "file_extension": ".py",
   "mimetype": "text/x-python",
   "name": "python",
   "nbconvert_exporter": "python",
   "pygments_lexer": "ipython3",
   "version": "3.7.7"
  }
 },
 "nbformat": 4,
 "nbformat_minor": 4
}
