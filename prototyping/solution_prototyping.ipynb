{
 "cells": [
  {
   "cell_type": "code",
   "execution_count": 1,
   "metadata": {},
   "outputs": [],
   "source": [
    "import numpy as np\n",
    "import pandas as pd\n",
    "import matplotlib.pyplot as plt"
   ]
  },
  {
   "cell_type": "code",
   "execution_count": 2,
   "metadata": {},
   "outputs": [],
   "source": [
    "from datetime import timedelta, datetime\n",
    "import holidays"
   ]
  },
  {
   "cell_type": "code",
   "execution_count": 3,
   "metadata": {
    "scrolled": false
   },
   "outputs": [
    {
     "data": {
      "text/html": [
       "<div>\n",
       "<style scoped>\n",
       "    .dataframe tbody tr th:only-of-type {\n",
       "        vertical-align: middle;\n",
       "    }\n",
       "\n",
       "    .dataframe tbody tr th {\n",
       "        vertical-align: top;\n",
       "    }\n",
       "\n",
       "    .dataframe thead th {\n",
       "        text-align: right;\n",
       "    }\n",
       "</style>\n",
       "<table border=\"1\" class=\"dataframe\">\n",
       "  <thead>\n",
       "    <tr style=\"text-align: right;\">\n",
       "      <th></th>\n",
       "      <th>wk_strt_dt</th>\n",
       "      <th>yr_nbr</th>\n",
       "      <th>qtr_nbr</th>\n",
       "      <th>prd</th>\n",
       "      <th>wk_nbr</th>\n",
       "      <th>wk_in_yr_nbr</th>\n",
       "      <th>mdip_dm</th>\n",
       "      <th>mdip_inst</th>\n",
       "      <th>mdip_nsp</th>\n",
       "      <th>mdip_auddig</th>\n",
       "      <th>...</th>\n",
       "      <th>seas_prd_12</th>\n",
       "      <th>seas_week_40</th>\n",
       "      <th>seas_week_41</th>\n",
       "      <th>seas_week_42</th>\n",
       "      <th>seas_week_43</th>\n",
       "      <th>seas_week_44</th>\n",
       "      <th>seas_week_45</th>\n",
       "      <th>seas_week_46</th>\n",
       "      <th>seas_week_47</th>\n",
       "      <th>seas_week_48</th>\n",
       "    </tr>\n",
       "  </thead>\n",
       "  <tbody>\n",
       "    <tr>\n",
       "      <th>0</th>\n",
       "      <td>2014-08-03</td>\n",
       "      <td>2014</td>\n",
       "      <td>3</td>\n",
       "      <td>7</td>\n",
       "      <td>1</td>\n",
       "      <td>27</td>\n",
       "      <td>4863885</td>\n",
       "      <td>29087520</td>\n",
       "      <td>2421933</td>\n",
       "      <td>692315</td>\n",
       "      <td>...</td>\n",
       "      <td>0</td>\n",
       "      <td>0</td>\n",
       "      <td>0</td>\n",
       "      <td>0</td>\n",
       "      <td>0</td>\n",
       "      <td>0</td>\n",
       "      <td>0</td>\n",
       "      <td>0</td>\n",
       "      <td>0</td>\n",
       "      <td>0</td>\n",
       "    </tr>\n",
       "    <tr>\n",
       "      <th>1</th>\n",
       "      <td>2014-08-10</td>\n",
       "      <td>2014</td>\n",
       "      <td>3</td>\n",
       "      <td>7</td>\n",
       "      <td>2</td>\n",
       "      <td>28</td>\n",
       "      <td>20887502</td>\n",
       "      <td>8345120</td>\n",
       "      <td>3984494</td>\n",
       "      <td>475810</td>\n",
       "      <td>...</td>\n",
       "      <td>0</td>\n",
       "      <td>0</td>\n",
       "      <td>0</td>\n",
       "      <td>0</td>\n",
       "      <td>0</td>\n",
       "      <td>0</td>\n",
       "      <td>0</td>\n",
       "      <td>0</td>\n",
       "      <td>0</td>\n",
       "      <td>0</td>\n",
       "    </tr>\n",
       "    <tr>\n",
       "      <th>2</th>\n",
       "      <td>2014-08-17</td>\n",
       "      <td>2014</td>\n",
       "      <td>3</td>\n",
       "      <td>7</td>\n",
       "      <td>3</td>\n",
       "      <td>29</td>\n",
       "      <td>11097724</td>\n",
       "      <td>17276800</td>\n",
       "      <td>1846832</td>\n",
       "      <td>784732</td>\n",
       "      <td>...</td>\n",
       "      <td>0</td>\n",
       "      <td>0</td>\n",
       "      <td>0</td>\n",
       "      <td>0</td>\n",
       "      <td>0</td>\n",
       "      <td>0</td>\n",
       "      <td>0</td>\n",
       "      <td>0</td>\n",
       "      <td>0</td>\n",
       "      <td>0</td>\n",
       "    </tr>\n",
       "    <tr>\n",
       "      <th>3</th>\n",
       "      <td>2014-08-24</td>\n",
       "      <td>2014</td>\n",
       "      <td>3</td>\n",
       "      <td>7</td>\n",
       "      <td>4</td>\n",
       "      <td>30</td>\n",
       "      <td>1023446</td>\n",
       "      <td>18468480</td>\n",
       "      <td>2394834</td>\n",
       "      <td>1032301</td>\n",
       "      <td>...</td>\n",
       "      <td>0</td>\n",
       "      <td>0</td>\n",
       "      <td>0</td>\n",
       "      <td>0</td>\n",
       "      <td>0</td>\n",
       "      <td>0</td>\n",
       "      <td>0</td>\n",
       "      <td>0</td>\n",
       "      <td>0</td>\n",
       "      <td>0</td>\n",
       "    </tr>\n",
       "    <tr>\n",
       "      <th>4</th>\n",
       "      <td>2014-08-31</td>\n",
       "      <td>2014</td>\n",
       "      <td>3</td>\n",
       "      <td>8</td>\n",
       "      <td>1</td>\n",
       "      <td>31</td>\n",
       "      <td>21109811</td>\n",
       "      <td>26659920</td>\n",
       "      <td>3312008</td>\n",
       "      <td>400456</td>\n",
       "      <td>...</td>\n",
       "      <td>0</td>\n",
       "      <td>0</td>\n",
       "      <td>0</td>\n",
       "      <td>0</td>\n",
       "      <td>0</td>\n",
       "      <td>0</td>\n",
       "      <td>0</td>\n",
       "      <td>0</td>\n",
       "      <td>0</td>\n",
       "      <td>0</td>\n",
       "    </tr>\n",
       "  </tbody>\n",
       "</table>\n",
       "<p>5 rows × 80 columns</p>\n",
       "</div>"
      ],
      "text/plain": [
       "   wk_strt_dt  yr_nbr  qtr_nbr  prd  wk_nbr  wk_in_yr_nbr   mdip_dm  \\\n",
       "0  2014-08-03    2014        3    7       1            27   4863885   \n",
       "1  2014-08-10    2014        3    7       2            28  20887502   \n",
       "2  2014-08-17    2014        3    7       3            29  11097724   \n",
       "3  2014-08-24    2014        3    7       4            30   1023446   \n",
       "4  2014-08-31    2014        3    8       1            31  21109811   \n",
       "\n",
       "   mdip_inst  mdip_nsp  mdip_auddig  ...  seas_prd_12  seas_week_40  \\\n",
       "0   29087520   2421933       692315  ...            0             0   \n",
       "1    8345120   3984494       475810  ...            0             0   \n",
       "2   17276800   1846832       784732  ...            0             0   \n",
       "3   18468480   2394834      1032301  ...            0             0   \n",
       "4   26659920   3312008       400456  ...            0             0   \n",
       "\n",
       "   seas_week_41  seas_week_42  seas_week_43  seas_week_44  seas_week_45  \\\n",
       "0             0             0             0             0             0   \n",
       "1             0             0             0             0             0   \n",
       "2             0             0             0             0             0   \n",
       "3             0             0             0             0             0   \n",
       "4             0             0             0             0             0   \n",
       "\n",
       "   seas_week_46  seas_week_47  seas_week_48  \n",
       "0             0             0             0  \n",
       "1             0             0             0  \n",
       "2             0             0             0  \n",
       "3             0             0             0  \n",
       "4             0             0             0  \n",
       "\n",
       "[5 rows x 80 columns]"
      ]
     },
     "execution_count": 3,
     "metadata": {},
     "output_type": "execute_result"
    }
   ],
   "source": [
    "df = pd.read_csv('../data.csv')\n",
    "df.head()"
   ]
  },
  {
   "cell_type": "code",
   "execution_count": 4,
   "metadata": {},
   "outputs": [],
   "source": [
    "df['wk_strt_dt'] = pd.to_datetime(df['wk_strt_dt'])"
   ]
  },
  {
   "cell_type": "code",
   "execution_count": 5,
   "metadata": {},
   "outputs": [],
   "source": [
    "# Function to pull Google Search Trends\n",
    "\n",
    "from pytrends.request import TrendReq\n",
    "\n",
    "def interest_over_time_df(df, date_column_index, kw_list):\n",
    "    \n",
    "    date_column_index_string = df.columns[date_column_index]\n",
    "    \n",
    "    pytrends = TrendReq(hl='en-US', tz = 300)\n",
    "    \n",
    "    pytrends.build_payload(kw_list, \n",
    "                           cat=0, \n",
    "                           timeframe=f\"{str(df.iloc[0,date_column_index])[0:10]} {str(df.iloc[-1,date_column_index])[0:10]}\", \n",
    "                           geo='CA', \n",
    "                           gprop='')\n",
    "    \n",
    "    interest_df = pytrends.interest_over_time()\n",
    "    interest_df.drop('isPartial', axis=1, inplace = True)\n",
    "    interest_df.reset_index(inplace = True)\n",
    "        \n",
    "    out_df = pd.merge(df, \n",
    "                   interest_df.reset_index(), \n",
    "                   how = 'left', \n",
    "                   left_on=date_column_index_string, \n",
    "                   right_on='date')\n",
    "    \n",
    "    out_df.drop(['date', 'index'], axis = 1, inplace = True)\n",
    "    \n",
    "    return out_df\n"
   ]
  },
  {
   "cell_type": "code",
   "execution_count": 6,
   "metadata": {},
   "outputs": [],
   "source": [
    "# Function to pull economic data from Statistics Canada\n",
    "\n",
    "from stats_can import StatsCan\n",
    "\n",
    "data_vectors_dict = {'Monthly GDP Growth Rate (Annualised)': 'v65201210', \n",
    "                     'Monthly Inflation Rate (Annualised)': 'v41690973', \n",
    "                     'Unemployment Rate':'v2062815'}\n",
    "\n",
    "def append_monthly_unemployment_rate(df, date_row):\n",
    "    sc = StatsCan()\n",
    "    econ_df = sc.vectors_to_df_remote('v2062815', periods = 360)\n",
    "    econ_df.columns = ['unemployment_rate']\n",
    "    econ_df = econ_df.reset_index()\n",
    "    \n",
    "    econ_df['refPer_yr_mth'] = [item for item in zip(econ_df['refPer'].dt.year, econ_df['refPer'].dt.month)]\n",
    "    \n",
    "    df['date_row_yr_mth'] = [item for item in zip(df[date_row].dt.year, df[date_row].dt.month)]\n",
    "    \n",
    "    df_merge_orig_gdp = pd.merge(df, \n",
    "                                econ_df.iloc[:,[-2,-1]], \n",
    "                                how = 'left', \n",
    "                                left_on='date_row_yr_mth', \n",
    "                                right_on='refPer_yr_mth')\n",
    "    \n",
    "    return df_merge_orig_gdp\n"
   ]
  },
  {
   "cell_type": "code",
   "execution_count": 7,
   "metadata": {
    "scrolled": false
   },
   "outputs": [],
   "source": [
    "new_df = interest_over_time_df(df, 0, ['Electronics'])"
   ]
  },
  {
   "cell_type": "code",
   "execution_count": 8,
   "metadata": {
    "scrolled": true
   },
   "outputs": [],
   "source": [
    "new_df = append_monthly_unemployment_rate(new_df, 'wk_strt_dt')"
   ]
  },
  {
   "cell_type": "code",
   "execution_count": 9,
   "metadata": {
    "scrolled": false
   },
   "outputs": [],
   "source": [
    "new_df.drop(['date_row_yr_mth', 'refPer_yr_mth'], axis = 1, inplace = True)"
   ]
  },
  {
   "cell_type": "code",
   "execution_count": 10,
   "metadata": {
    "scrolled": false
   },
   "outputs": [
    {
     "data": {
      "text/html": [
       "<div>\n",
       "<style scoped>\n",
       "    .dataframe tbody tr th:only-of-type {\n",
       "        vertical-align: middle;\n",
       "    }\n",
       "\n",
       "    .dataframe tbody tr th {\n",
       "        vertical-align: top;\n",
       "    }\n",
       "\n",
       "    .dataframe thead th {\n",
       "        text-align: right;\n",
       "    }\n",
       "</style>\n",
       "<table border=\"1\" class=\"dataframe\">\n",
       "  <thead>\n",
       "    <tr style=\"text-align: right;\">\n",
       "      <th></th>\n",
       "      <th>wk_strt_dt</th>\n",
       "      <th>yr_nbr</th>\n",
       "      <th>qtr_nbr</th>\n",
       "      <th>prd</th>\n",
       "      <th>wk_nbr</th>\n",
       "      <th>wk_in_yr_nbr</th>\n",
       "      <th>mdip_dm</th>\n",
       "      <th>mdip_inst</th>\n",
       "      <th>mdip_nsp</th>\n",
       "      <th>mdip_auddig</th>\n",
       "      <th>...</th>\n",
       "      <th>seas_week_41</th>\n",
       "      <th>seas_week_42</th>\n",
       "      <th>seas_week_43</th>\n",
       "      <th>seas_week_44</th>\n",
       "      <th>seas_week_45</th>\n",
       "      <th>seas_week_46</th>\n",
       "      <th>seas_week_47</th>\n",
       "      <th>seas_week_48</th>\n",
       "      <th>Electronics</th>\n",
       "      <th>unemployment_rate</th>\n",
       "    </tr>\n",
       "  </thead>\n",
       "  <tbody>\n",
       "    <tr>\n",
       "      <th>0</th>\n",
       "      <td>2014-08-03</td>\n",
       "      <td>2014</td>\n",
       "      <td>3</td>\n",
       "      <td>7</td>\n",
       "      <td>1</td>\n",
       "      <td>27</td>\n",
       "      <td>4863885</td>\n",
       "      <td>29087520</td>\n",
       "      <td>2421933</td>\n",
       "      <td>692315</td>\n",
       "      <td>...</td>\n",
       "      <td>0</td>\n",
       "      <td>0</td>\n",
       "      <td>0</td>\n",
       "      <td>0</td>\n",
       "      <td>0</td>\n",
       "      <td>0</td>\n",
       "      <td>0</td>\n",
       "      <td>0</td>\n",
       "      <td>56</td>\n",
       "      <td>7.0</td>\n",
       "    </tr>\n",
       "    <tr>\n",
       "      <th>1</th>\n",
       "      <td>2014-08-10</td>\n",
       "      <td>2014</td>\n",
       "      <td>3</td>\n",
       "      <td>7</td>\n",
       "      <td>2</td>\n",
       "      <td>28</td>\n",
       "      <td>20887502</td>\n",
       "      <td>8345120</td>\n",
       "      <td>3984494</td>\n",
       "      <td>475810</td>\n",
       "      <td>...</td>\n",
       "      <td>0</td>\n",
       "      <td>0</td>\n",
       "      <td>0</td>\n",
       "      <td>0</td>\n",
       "      <td>0</td>\n",
       "      <td>0</td>\n",
       "      <td>0</td>\n",
       "      <td>0</td>\n",
       "      <td>55</td>\n",
       "      <td>7.0</td>\n",
       "    </tr>\n",
       "    <tr>\n",
       "      <th>2</th>\n",
       "      <td>2014-08-17</td>\n",
       "      <td>2014</td>\n",
       "      <td>3</td>\n",
       "      <td>7</td>\n",
       "      <td>3</td>\n",
       "      <td>29</td>\n",
       "      <td>11097724</td>\n",
       "      <td>17276800</td>\n",
       "      <td>1846832</td>\n",
       "      <td>784732</td>\n",
       "      <td>...</td>\n",
       "      <td>0</td>\n",
       "      <td>0</td>\n",
       "      <td>0</td>\n",
       "      <td>0</td>\n",
       "      <td>0</td>\n",
       "      <td>0</td>\n",
       "      <td>0</td>\n",
       "      <td>0</td>\n",
       "      <td>63</td>\n",
       "      <td>7.0</td>\n",
       "    </tr>\n",
       "    <tr>\n",
       "      <th>3</th>\n",
       "      <td>2014-08-24</td>\n",
       "      <td>2014</td>\n",
       "      <td>3</td>\n",
       "      <td>7</td>\n",
       "      <td>4</td>\n",
       "      <td>30</td>\n",
       "      <td>1023446</td>\n",
       "      <td>18468480</td>\n",
       "      <td>2394834</td>\n",
       "      <td>1032301</td>\n",
       "      <td>...</td>\n",
       "      <td>0</td>\n",
       "      <td>0</td>\n",
       "      <td>0</td>\n",
       "      <td>0</td>\n",
       "      <td>0</td>\n",
       "      <td>0</td>\n",
       "      <td>0</td>\n",
       "      <td>0</td>\n",
       "      <td>56</td>\n",
       "      <td>7.0</td>\n",
       "    </tr>\n",
       "    <tr>\n",
       "      <th>4</th>\n",
       "      <td>2014-08-31</td>\n",
       "      <td>2014</td>\n",
       "      <td>3</td>\n",
       "      <td>8</td>\n",
       "      <td>1</td>\n",
       "      <td>31</td>\n",
       "      <td>21109811</td>\n",
       "      <td>26659920</td>\n",
       "      <td>3312008</td>\n",
       "      <td>400456</td>\n",
       "      <td>...</td>\n",
       "      <td>0</td>\n",
       "      <td>0</td>\n",
       "      <td>0</td>\n",
       "      <td>0</td>\n",
       "      <td>0</td>\n",
       "      <td>0</td>\n",
       "      <td>0</td>\n",
       "      <td>0</td>\n",
       "      <td>52</td>\n",
       "      <td>7.0</td>\n",
       "    </tr>\n",
       "    <tr>\n",
       "      <th>...</th>\n",
       "      <td>...</td>\n",
       "      <td>...</td>\n",
       "      <td>...</td>\n",
       "      <td>...</td>\n",
       "      <td>...</td>\n",
       "      <td>...</td>\n",
       "      <td>...</td>\n",
       "      <td>...</td>\n",
       "      <td>...</td>\n",
       "      <td>...</td>\n",
       "      <td>...</td>\n",
       "      <td>...</td>\n",
       "      <td>...</td>\n",
       "      <td>...</td>\n",
       "      <td>...</td>\n",
       "      <td>...</td>\n",
       "      <td>...</td>\n",
       "      <td>...</td>\n",
       "      <td>...</td>\n",
       "      <td>...</td>\n",
       "      <td>...</td>\n",
       "    </tr>\n",
       "    <tr>\n",
       "      <th>204</th>\n",
       "      <td>2018-07-01</td>\n",
       "      <td>2018</td>\n",
       "      <td>2</td>\n",
       "      <td>5</td>\n",
       "      <td>5</td>\n",
       "      <td>22</td>\n",
       "      <td>13038</td>\n",
       "      <td>13828188</td>\n",
       "      <td>387</td>\n",
       "      <td>2135131</td>\n",
       "      <td>...</td>\n",
       "      <td>0</td>\n",
       "      <td>0</td>\n",
       "      <td>0</td>\n",
       "      <td>0</td>\n",
       "      <td>0</td>\n",
       "      <td>0</td>\n",
       "      <td>0</td>\n",
       "      <td>0</td>\n",
       "      <td>34</td>\n",
       "      <td>5.8</td>\n",
       "    </tr>\n",
       "    <tr>\n",
       "      <th>205</th>\n",
       "      <td>2018-07-08</td>\n",
       "      <td>2018</td>\n",
       "      <td>2</td>\n",
       "      <td>6</td>\n",
       "      <td>1</td>\n",
       "      <td>23</td>\n",
       "      <td>0</td>\n",
       "      <td>3714294</td>\n",
       "      <td>0</td>\n",
       "      <td>1448480</td>\n",
       "      <td>...</td>\n",
       "      <td>0</td>\n",
       "      <td>0</td>\n",
       "      <td>0</td>\n",
       "      <td>0</td>\n",
       "      <td>0</td>\n",
       "      <td>0</td>\n",
       "      <td>0</td>\n",
       "      <td>0</td>\n",
       "      <td>42</td>\n",
       "      <td>5.8</td>\n",
       "    </tr>\n",
       "    <tr>\n",
       "      <th>206</th>\n",
       "      <td>2018-07-15</td>\n",
       "      <td>2018</td>\n",
       "      <td>2</td>\n",
       "      <td>6</td>\n",
       "      <td>2</td>\n",
       "      <td>24</td>\n",
       "      <td>2225092</td>\n",
       "      <td>5102353</td>\n",
       "      <td>0</td>\n",
       "      <td>1307764</td>\n",
       "      <td>...</td>\n",
       "      <td>0</td>\n",
       "      <td>0</td>\n",
       "      <td>0</td>\n",
       "      <td>0</td>\n",
       "      <td>0</td>\n",
       "      <td>0</td>\n",
       "      <td>0</td>\n",
       "      <td>0</td>\n",
       "      <td>41</td>\n",
       "      <td>5.8</td>\n",
       "    </tr>\n",
       "    <tr>\n",
       "      <th>207</th>\n",
       "      <td>2018-07-22</td>\n",
       "      <td>2018</td>\n",
       "      <td>2</td>\n",
       "      <td>6</td>\n",
       "      <td>3</td>\n",
       "      <td>25</td>\n",
       "      <td>17544331</td>\n",
       "      <td>1478566</td>\n",
       "      <td>1891</td>\n",
       "      <td>510539</td>\n",
       "      <td>...</td>\n",
       "      <td>0</td>\n",
       "      <td>0</td>\n",
       "      <td>0</td>\n",
       "      <td>0</td>\n",
       "      <td>0</td>\n",
       "      <td>0</td>\n",
       "      <td>0</td>\n",
       "      <td>0</td>\n",
       "      <td>40</td>\n",
       "      <td>5.8</td>\n",
       "    </tr>\n",
       "    <tr>\n",
       "      <th>208</th>\n",
       "      <td>2018-07-29</td>\n",
       "      <td>2018</td>\n",
       "      <td>2</td>\n",
       "      <td>6</td>\n",
       "      <td>4</td>\n",
       "      <td>26</td>\n",
       "      <td>30800</td>\n",
       "      <td>3106708</td>\n",
       "      <td>450</td>\n",
       "      <td>108614</td>\n",
       "      <td>...</td>\n",
       "      <td>0</td>\n",
       "      <td>0</td>\n",
       "      <td>0</td>\n",
       "      <td>0</td>\n",
       "      <td>0</td>\n",
       "      <td>0</td>\n",
       "      <td>0</td>\n",
       "      <td>0</td>\n",
       "      <td>41</td>\n",
       "      <td>5.8</td>\n",
       "    </tr>\n",
       "  </tbody>\n",
       "</table>\n",
       "<p>209 rows × 82 columns</p>\n",
       "</div>"
      ],
      "text/plain": [
       "    wk_strt_dt  yr_nbr  qtr_nbr  prd  wk_nbr  wk_in_yr_nbr   mdip_dm  \\\n",
       "0   2014-08-03    2014        3    7       1            27   4863885   \n",
       "1   2014-08-10    2014        3    7       2            28  20887502   \n",
       "2   2014-08-17    2014        3    7       3            29  11097724   \n",
       "3   2014-08-24    2014        3    7       4            30   1023446   \n",
       "4   2014-08-31    2014        3    8       1            31  21109811   \n",
       "..         ...     ...      ...  ...     ...           ...       ...   \n",
       "204 2018-07-01    2018        2    5       5            22     13038   \n",
       "205 2018-07-08    2018        2    6       1            23         0   \n",
       "206 2018-07-15    2018        2    6       2            24   2225092   \n",
       "207 2018-07-22    2018        2    6       3            25  17544331   \n",
       "208 2018-07-29    2018        2    6       4            26     30800   \n",
       "\n",
       "     mdip_inst  mdip_nsp  mdip_auddig  ...  seas_week_41  seas_week_42  \\\n",
       "0     29087520   2421933       692315  ...             0             0   \n",
       "1      8345120   3984494       475810  ...             0             0   \n",
       "2     17276800   1846832       784732  ...             0             0   \n",
       "3     18468480   2394834      1032301  ...             0             0   \n",
       "4     26659920   3312008       400456  ...             0             0   \n",
       "..         ...       ...          ...  ...           ...           ...   \n",
       "204   13828188       387      2135131  ...             0             0   \n",
       "205    3714294         0      1448480  ...             0             0   \n",
       "206    5102353         0      1307764  ...             0             0   \n",
       "207    1478566      1891       510539  ...             0             0   \n",
       "208    3106708       450       108614  ...             0             0   \n",
       "\n",
       "     seas_week_43  seas_week_44  seas_week_45  seas_week_46  seas_week_47  \\\n",
       "0               0             0             0             0             0   \n",
       "1               0             0             0             0             0   \n",
       "2               0             0             0             0             0   \n",
       "3               0             0             0             0             0   \n",
       "4               0             0             0             0             0   \n",
       "..            ...           ...           ...           ...           ...   \n",
       "204             0             0             0             0             0   \n",
       "205             0             0             0             0             0   \n",
       "206             0             0             0             0             0   \n",
       "207             0             0             0             0             0   \n",
       "208             0             0             0             0             0   \n",
       "\n",
       "     seas_week_48  Electronics  unemployment_rate  \n",
       "0               0           56                7.0  \n",
       "1               0           55                7.0  \n",
       "2               0           63                7.0  \n",
       "3               0           56                7.0  \n",
       "4               0           52                7.0  \n",
       "..            ...          ...                ...  \n",
       "204             0           34                5.8  \n",
       "205             0           42                5.8  \n",
       "206             0           41                5.8  \n",
       "207             0           40                5.8  \n",
       "208             0           41                5.8  \n",
       "\n",
       "[209 rows x 82 columns]"
      ]
     },
     "execution_count": 10,
     "metadata": {},
     "output_type": "execute_result"
    }
   ],
   "source": [
    "new_df"
   ]
  },
  {
   "cell_type": "code",
   "execution_count": 11,
   "metadata": {},
   "outputs": [
    {
     "name": "stdout",
     "output_type": "stream",
     "text": [
      "<class 'pandas.core.frame.DataFrame'>\n",
      "Int64Index: 209 entries, 0 to 208\n",
      "Data columns (total 82 columns):\n",
      " #   Column                    Non-Null Count  Dtype         \n",
      "---  ------                    --------------  -----         \n",
      " 0   wk_strt_dt                209 non-null    datetime64[ns]\n",
      " 1   yr_nbr                    209 non-null    int64         \n",
      " 2   qtr_nbr                   209 non-null    int64         \n",
      " 3   prd                       209 non-null    int64         \n",
      " 4   wk_nbr                    209 non-null    int64         \n",
      " 5   wk_in_yr_nbr              209 non-null    int64         \n",
      " 6   mdip_dm                   209 non-null    int64         \n",
      " 7   mdip_inst                 209 non-null    int64         \n",
      " 8   mdip_nsp                  209 non-null    int64         \n",
      " 9   mdip_auddig               209 non-null    int64         \n",
      " 10  mdip_audtr                209 non-null    int64         \n",
      " 11  mdip_vidtr                209 non-null    int64         \n",
      " 12  mdip_viddig               209 non-null    int64         \n",
      " 13  mdip_so                   209 non-null    int64         \n",
      " 14  mdip_on                   209 non-null    int64         \n",
      " 15  mdip_em                   209 non-null    int64         \n",
      " 16  mdip_sms                  209 non-null    int64         \n",
      " 17  mdip_aff                  209 non-null    int64         \n",
      " 18  mdip_sem                  209 non-null    int64         \n",
      " 19  mdsp_dm                   209 non-null    float64       \n",
      " 20  mdsp_inst                 209 non-null    float64       \n",
      " 21  mdsp_nsp                  209 non-null    float64       \n",
      " 22  mdsp_auddig               209 non-null    float64       \n",
      " 23  mdsp_audtr                209 non-null    float64       \n",
      " 24  mdsp_vidtr                209 non-null    float64       \n",
      " 25  mdsp_viddig               209 non-null    float64       \n",
      " 26  mdsp_so                   209 non-null    float64       \n",
      " 27  mdsp_on                   209 non-null    float64       \n",
      " 28  mdsp_sem                  209 non-null    float64       \n",
      " 29  sales                     209 non-null    float64       \n",
      " 30  me_ics_all                209 non-null    float64       \n",
      " 31  me_gas_dpg                209 non-null    float64       \n",
      " 32  st_ct                     209 non-null    float64       \n",
      " 33  mrkdn_valadd_edw          209 non-null    float64       \n",
      " 34  mrkdn_pdm                 209 non-null    float64       \n",
      " 35  va_pub_0.15               209 non-null    int64         \n",
      " 36  va_pub_0.2                209 non-null    int64         \n",
      " 37  va_pub_0.25               209 non-null    int64         \n",
      " 38  va_pub_0.3                209 non-null    int64         \n",
      " 39  hldy_Black Friday         209 non-null    int64         \n",
      " 40  hldy_Christmas Day        209 non-null    int64         \n",
      " 41  hldy_Christmas Eve        209 non-null    int64         \n",
      " 42  hldy_Columbus Day         209 non-null    int64         \n",
      " 43  hldy_Cyber Monday         209 non-null    int64         \n",
      " 44  hldy_Day after Christmas  209 non-null    int64         \n",
      " 45  hldy_Easter               209 non-null    int64         \n",
      " 46  hldy_Father's Day         209 non-null    int64         \n",
      " 47  hldy_Green Monday         209 non-null    int64         \n",
      " 48  hldy_July 4th             209 non-null    int64         \n",
      " 49  hldy_Labor Day            209 non-null    int64         \n",
      " 50  hldy_MLK                  209 non-null    int64         \n",
      " 51  hldy_Memorial Day         209 non-null    int64         \n",
      " 52  hldy_Mother's Day         209 non-null    int64         \n",
      " 53  hldy_NYE                  209 non-null    int64         \n",
      " 54  hldy_New Year's Day       209 non-null    int64         \n",
      " 55  hldy_Pre Thanksgiving     209 non-null    int64         \n",
      " 56  hldy_Presidents Day       209 non-null    int64         \n",
      " 57  hldy_Prime Day            209 non-null    int64         \n",
      " 58  hldy_Thanksgiving         209 non-null    int64         \n",
      " 59  hldy_Valentine's Day      209 non-null    int64         \n",
      " 60  hldy_Veterans Day         209 non-null    int64         \n",
      " 61  seas_prd_1                209 non-null    int64         \n",
      " 62  seas_prd_2                209 non-null    int64         \n",
      " 63  seas_prd_3                209 non-null    int64         \n",
      " 64  seas_prd_4                209 non-null    int64         \n",
      " 65  seas_prd_5                209 non-null    int64         \n",
      " 66  seas_prd_6                209 non-null    int64         \n",
      " 67  seas_prd_7                209 non-null    int64         \n",
      " 68  seas_prd_8                209 non-null    int64         \n",
      " 69  seas_prd_9                209 non-null    int64         \n",
      " 70  seas_prd_12               209 non-null    int64         \n",
      " 71  seas_week_40              209 non-null    int64         \n",
      " 72  seas_week_41              209 non-null    int64         \n",
      " 73  seas_week_42              209 non-null    int64         \n",
      " 74  seas_week_43              209 non-null    int64         \n",
      " 75  seas_week_44              209 non-null    int64         \n",
      " 76  seas_week_45              209 non-null    int64         \n",
      " 77  seas_week_46              209 non-null    int64         \n",
      " 78  seas_week_47              209 non-null    int64         \n",
      " 79  seas_week_48              209 non-null    int64         \n",
      " 80  Electronics               209 non-null    int32         \n",
      " 81  unemployment_rate         209 non-null    float64       \n",
      "dtypes: datetime64[ns](1), float64(17), int32(1), int64(63)\n",
      "memory usage: 134.7 KB\n"
     ]
    }
   ],
   "source": [
    "new_df.info()"
   ]
  },
  {
   "cell_type": "code",
   "execution_count": null,
   "metadata": {},
   "outputs": [],
   "source": []
  },
  {
   "cell_type": "markdown",
   "metadata": {},
   "source": [
    "## Holidays\n",
    "\n",
    "- Combine Columns 39 - 60 (Holiday Marker)\n",
    "- Automate designation of holidays"
   ]
  },
  {
   "cell_type": "code",
   "execution_count": 12,
   "metadata": {},
   "outputs": [],
   "source": [
    "# Install holidays package\n",
    "\n",
    "# import sys\n",
    "\n",
    "# !{sys.executable} -m pip install holidays"
   ]
  },
  {
   "cell_type": "code",
   "execution_count": 13,
   "metadata": {},
   "outputs": [],
   "source": [
    "new_df['is_holiday_week'] = (new_df.iloc[:,range(39,61)].sum(axis = 1) > 0).astype(int)"
   ]
  },
  {
   "cell_type": "code",
   "execution_count": 14,
   "metadata": {},
   "outputs": [
    {
     "data": {
      "text/plain": [
       "0    142\n",
       "1     67\n",
       "Name: is_holiday_week, dtype: int64"
      ]
     },
     "execution_count": 14,
     "metadata": {},
     "output_type": "execute_result"
    }
   ],
   "source": [
    "new_df['is_holiday_week'].value_counts()"
   ]
  },
  {
   "cell_type": "code",
   "execution_count": 15,
   "metadata": {},
   "outputs": [
    {
     "data": {
      "text/plain": [
       "['hldy_Black Friday',\n",
       " 'hldy_Christmas Day',\n",
       " 'hldy_Christmas Eve',\n",
       " 'hldy_Columbus Day',\n",
       " 'hldy_Cyber Monday',\n",
       " 'hldy_Day after Christmas',\n",
       " 'hldy_Easter',\n",
       " \"hldy_Father's Day\",\n",
       " 'hldy_Green Monday',\n",
       " 'hldy_July 4th',\n",
       " 'hldy_Labor Day',\n",
       " 'hldy_MLK',\n",
       " 'hldy_Memorial Day',\n",
       " \"hldy_Mother's Day\",\n",
       " 'hldy_NYE',\n",
       " \"hldy_New Year's Day\",\n",
       " 'hldy_Pre Thanksgiving',\n",
       " 'hldy_Presidents Day',\n",
       " 'hldy_Prime Day',\n",
       " 'hldy_Thanksgiving',\n",
       " \"hldy_Valentine's Day\",\n",
       " 'hldy_Veterans Day',\n",
       " 'seas_prd_1',\n",
       " 'seas_prd_2',\n",
       " 'seas_prd_3',\n",
       " 'seas_prd_4',\n",
       " 'seas_prd_5',\n",
       " 'seas_prd_6',\n",
       " 'seas_prd_7',\n",
       " 'seas_prd_8',\n",
       " 'seas_prd_9',\n",
       " 'seas_prd_12',\n",
       " 'seas_week_40',\n",
       " 'seas_week_41',\n",
       " 'seas_week_42',\n",
       " 'seas_week_43',\n",
       " 'seas_week_44',\n",
       " 'seas_week_45',\n",
       " 'seas_week_46',\n",
       " 'seas_week_47',\n",
       " 'seas_week_48']"
      ]
     },
     "execution_count": 15,
     "metadata": {},
     "output_type": "execute_result"
    }
   ],
   "source": [
    "hldy_seas_cols = [column for column in new_df.columns if ('hldy_' in column) or ('seas_' in column)]\n",
    "hldy_seas_cols"
   ]
  },
  {
   "cell_type": "code",
   "execution_count": 16,
   "metadata": {},
   "outputs": [
    {
     "data": {
      "text/html": [
       "<div>\n",
       "<style scoped>\n",
       "    .dataframe tbody tr th:only-of-type {\n",
       "        vertical-align: middle;\n",
       "    }\n",
       "\n",
       "    .dataframe tbody tr th {\n",
       "        vertical-align: top;\n",
       "    }\n",
       "\n",
       "    .dataframe thead th {\n",
       "        text-align: right;\n",
       "    }\n",
       "</style>\n",
       "<table border=\"1\" class=\"dataframe\">\n",
       "  <thead>\n",
       "    <tr style=\"text-align: right;\">\n",
       "      <th></th>\n",
       "      <th>wk_strt_dt</th>\n",
       "      <th>yr_nbr</th>\n",
       "      <th>qtr_nbr</th>\n",
       "      <th>prd</th>\n",
       "      <th>wk_nbr</th>\n",
       "      <th>wk_in_yr_nbr</th>\n",
       "      <th>mdip_dm</th>\n",
       "      <th>mdip_inst</th>\n",
       "      <th>mdip_nsp</th>\n",
       "      <th>mdip_auddig</th>\n",
       "      <th>...</th>\n",
       "      <th>st_ct</th>\n",
       "      <th>mrkdn_valadd_edw</th>\n",
       "      <th>mrkdn_pdm</th>\n",
       "      <th>va_pub_0.15</th>\n",
       "      <th>va_pub_0.2</th>\n",
       "      <th>va_pub_0.25</th>\n",
       "      <th>va_pub_0.3</th>\n",
       "      <th>Electronics</th>\n",
       "      <th>unemployment_rate</th>\n",
       "      <th>is_holiday_week</th>\n",
       "    </tr>\n",
       "  </thead>\n",
       "  <tbody>\n",
       "    <tr>\n",
       "      <th>0</th>\n",
       "      <td>2014-08-03</td>\n",
       "      <td>2014</td>\n",
       "      <td>3</td>\n",
       "      <td>7</td>\n",
       "      <td>1</td>\n",
       "      <td>27</td>\n",
       "      <td>4863885</td>\n",
       "      <td>29087520</td>\n",
       "      <td>2421933</td>\n",
       "      <td>692315</td>\n",
       "      <td>...</td>\n",
       "      <td>716.285714</td>\n",
       "      <td>0.000000</td>\n",
       "      <td>0.368029</td>\n",
       "      <td>1</td>\n",
       "      <td>0</td>\n",
       "      <td>0</td>\n",
       "      <td>0</td>\n",
       "      <td>56</td>\n",
       "      <td>7.0</td>\n",
       "      <td>0</td>\n",
       "    </tr>\n",
       "    <tr>\n",
       "      <th>1</th>\n",
       "      <td>2014-08-10</td>\n",
       "      <td>2014</td>\n",
       "      <td>3</td>\n",
       "      <td>7</td>\n",
       "      <td>2</td>\n",
       "      <td>28</td>\n",
       "      <td>20887502</td>\n",
       "      <td>8345120</td>\n",
       "      <td>3984494</td>\n",
       "      <td>475810</td>\n",
       "      <td>...</td>\n",
       "      <td>716.428571</td>\n",
       "      <td>0.000000</td>\n",
       "      <td>0.360911</td>\n",
       "      <td>1</td>\n",
       "      <td>0</td>\n",
       "      <td>0</td>\n",
       "      <td>0</td>\n",
       "      <td>55</td>\n",
       "      <td>7.0</td>\n",
       "      <td>0</td>\n",
       "    </tr>\n",
       "    <tr>\n",
       "      <th>2</th>\n",
       "      <td>2014-08-17</td>\n",
       "      <td>2014</td>\n",
       "      <td>3</td>\n",
       "      <td>7</td>\n",
       "      <td>3</td>\n",
       "      <td>29</td>\n",
       "      <td>11097724</td>\n",
       "      <td>17276800</td>\n",
       "      <td>1846832</td>\n",
       "      <td>784732</td>\n",
       "      <td>...</td>\n",
       "      <td>717.000000</td>\n",
       "      <td>0.000000</td>\n",
       "      <td>0.344832</td>\n",
       "      <td>1</td>\n",
       "      <td>1</td>\n",
       "      <td>0</td>\n",
       "      <td>0</td>\n",
       "      <td>63</td>\n",
       "      <td>7.0</td>\n",
       "      <td>0</td>\n",
       "    </tr>\n",
       "    <tr>\n",
       "      <th>3</th>\n",
       "      <td>2014-08-24</td>\n",
       "      <td>2014</td>\n",
       "      <td>3</td>\n",
       "      <td>7</td>\n",
       "      <td>4</td>\n",
       "      <td>30</td>\n",
       "      <td>1023446</td>\n",
       "      <td>18468480</td>\n",
       "      <td>2394834</td>\n",
       "      <td>1032301</td>\n",
       "      <td>...</td>\n",
       "      <td>717.000000</td>\n",
       "      <td>0.000000</td>\n",
       "      <td>0.356973</td>\n",
       "      <td>1</td>\n",
       "      <td>1</td>\n",
       "      <td>0</td>\n",
       "      <td>0</td>\n",
       "      <td>56</td>\n",
       "      <td>7.0</td>\n",
       "      <td>0</td>\n",
       "    </tr>\n",
       "    <tr>\n",
       "      <th>4</th>\n",
       "      <td>2014-08-31</td>\n",
       "      <td>2014</td>\n",
       "      <td>3</td>\n",
       "      <td>8</td>\n",
       "      <td>1</td>\n",
       "      <td>31</td>\n",
       "      <td>21109811</td>\n",
       "      <td>26659920</td>\n",
       "      <td>3312008</td>\n",
       "      <td>400456</td>\n",
       "      <td>...</td>\n",
       "      <td>717.000000</td>\n",
       "      <td>0.000000</td>\n",
       "      <td>0.359990</td>\n",
       "      <td>0</td>\n",
       "      <td>1</td>\n",
       "      <td>0</td>\n",
       "      <td>0</td>\n",
       "      <td>52</td>\n",
       "      <td>7.0</td>\n",
       "      <td>1</td>\n",
       "    </tr>\n",
       "    <tr>\n",
       "      <th>...</th>\n",
       "      <td>...</td>\n",
       "      <td>...</td>\n",
       "      <td>...</td>\n",
       "      <td>...</td>\n",
       "      <td>...</td>\n",
       "      <td>...</td>\n",
       "      <td>...</td>\n",
       "      <td>...</td>\n",
       "      <td>...</td>\n",
       "      <td>...</td>\n",
       "      <td>...</td>\n",
       "      <td>...</td>\n",
       "      <td>...</td>\n",
       "      <td>...</td>\n",
       "      <td>...</td>\n",
       "      <td>...</td>\n",
       "      <td>...</td>\n",
       "      <td>...</td>\n",
       "      <td>...</td>\n",
       "      <td>...</td>\n",
       "      <td>...</td>\n",
       "    </tr>\n",
       "    <tr>\n",
       "      <th>204</th>\n",
       "      <td>2018-07-01</td>\n",
       "      <td>2018</td>\n",
       "      <td>2</td>\n",
       "      <td>5</td>\n",
       "      <td>5</td>\n",
       "      <td>22</td>\n",
       "      <td>13038</td>\n",
       "      <td>13828188</td>\n",
       "      <td>387</td>\n",
       "      <td>2135131</td>\n",
       "      <td>...</td>\n",
       "      <td>599.000000</td>\n",
       "      <td>0.415964</td>\n",
       "      <td>0.371423</td>\n",
       "      <td>0</td>\n",
       "      <td>1</td>\n",
       "      <td>0</td>\n",
       "      <td>0</td>\n",
       "      <td>34</td>\n",
       "      <td>5.8</td>\n",
       "      <td>1</td>\n",
       "    </tr>\n",
       "    <tr>\n",
       "      <th>205</th>\n",
       "      <td>2018-07-08</td>\n",
       "      <td>2018</td>\n",
       "      <td>2</td>\n",
       "      <td>6</td>\n",
       "      <td>1</td>\n",
       "      <td>23</td>\n",
       "      <td>0</td>\n",
       "      <td>3714294</td>\n",
       "      <td>0</td>\n",
       "      <td>1448480</td>\n",
       "      <td>...</td>\n",
       "      <td>599.000000</td>\n",
       "      <td>0.457615</td>\n",
       "      <td>0.372676</td>\n",
       "      <td>0</td>\n",
       "      <td>1</td>\n",
       "      <td>1</td>\n",
       "      <td>0</td>\n",
       "      <td>42</td>\n",
       "      <td>5.8</td>\n",
       "      <td>1</td>\n",
       "    </tr>\n",
       "    <tr>\n",
       "      <th>206</th>\n",
       "      <td>2018-07-15</td>\n",
       "      <td>2018</td>\n",
       "      <td>2</td>\n",
       "      <td>6</td>\n",
       "      <td>2</td>\n",
       "      <td>24</td>\n",
       "      <td>2225092</td>\n",
       "      <td>5102353</td>\n",
       "      <td>0</td>\n",
       "      <td>1307764</td>\n",
       "      <td>...</td>\n",
       "      <td>599.000000</td>\n",
       "      <td>0.382469</td>\n",
       "      <td>0.363597</td>\n",
       "      <td>0</td>\n",
       "      <td>0</td>\n",
       "      <td>1</td>\n",
       "      <td>0</td>\n",
       "      <td>41</td>\n",
       "      <td>5.8</td>\n",
       "      <td>0</td>\n",
       "    </tr>\n",
       "    <tr>\n",
       "      <th>207</th>\n",
       "      <td>2018-07-22</td>\n",
       "      <td>2018</td>\n",
       "      <td>2</td>\n",
       "      <td>6</td>\n",
       "      <td>3</td>\n",
       "      <td>25</td>\n",
       "      <td>17544331</td>\n",
       "      <td>1478566</td>\n",
       "      <td>1891</td>\n",
       "      <td>510539</td>\n",
       "      <td>...</td>\n",
       "      <td>599.000000</td>\n",
       "      <td>0.272084</td>\n",
       "      <td>0.360448</td>\n",
       "      <td>0</td>\n",
       "      <td>1</td>\n",
       "      <td>0</td>\n",
       "      <td>0</td>\n",
       "      <td>40</td>\n",
       "      <td>5.8</td>\n",
       "      <td>0</td>\n",
       "    </tr>\n",
       "    <tr>\n",
       "      <th>208</th>\n",
       "      <td>2018-07-29</td>\n",
       "      <td>2018</td>\n",
       "      <td>2</td>\n",
       "      <td>6</td>\n",
       "      <td>4</td>\n",
       "      <td>26</td>\n",
       "      <td>30800</td>\n",
       "      <td>3106708</td>\n",
       "      <td>450</td>\n",
       "      <td>108614</td>\n",
       "      <td>...</td>\n",
       "      <td>599.000000</td>\n",
       "      <td>0.325676</td>\n",
       "      <td>0.362766</td>\n",
       "      <td>0</td>\n",
       "      <td>1</td>\n",
       "      <td>0</td>\n",
       "      <td>0</td>\n",
       "      <td>41</td>\n",
       "      <td>5.8</td>\n",
       "      <td>0</td>\n",
       "    </tr>\n",
       "  </tbody>\n",
       "</table>\n",
       "<p>209 rows × 42 columns</p>\n",
       "</div>"
      ],
      "text/plain": [
       "    wk_strt_dt  yr_nbr  qtr_nbr  prd  wk_nbr  wk_in_yr_nbr   mdip_dm  \\\n",
       "0   2014-08-03    2014        3    7       1            27   4863885   \n",
       "1   2014-08-10    2014        3    7       2            28  20887502   \n",
       "2   2014-08-17    2014        3    7       3            29  11097724   \n",
       "3   2014-08-24    2014        3    7       4            30   1023446   \n",
       "4   2014-08-31    2014        3    8       1            31  21109811   \n",
       "..         ...     ...      ...  ...     ...           ...       ...   \n",
       "204 2018-07-01    2018        2    5       5            22     13038   \n",
       "205 2018-07-08    2018        2    6       1            23         0   \n",
       "206 2018-07-15    2018        2    6       2            24   2225092   \n",
       "207 2018-07-22    2018        2    6       3            25  17544331   \n",
       "208 2018-07-29    2018        2    6       4            26     30800   \n",
       "\n",
       "     mdip_inst  mdip_nsp  mdip_auddig  ...       st_ct  mrkdn_valadd_edw  \\\n",
       "0     29087520   2421933       692315  ...  716.285714          0.000000   \n",
       "1      8345120   3984494       475810  ...  716.428571          0.000000   \n",
       "2     17276800   1846832       784732  ...  717.000000          0.000000   \n",
       "3     18468480   2394834      1032301  ...  717.000000          0.000000   \n",
       "4     26659920   3312008       400456  ...  717.000000          0.000000   \n",
       "..         ...       ...          ...  ...         ...               ...   \n",
       "204   13828188       387      2135131  ...  599.000000          0.415964   \n",
       "205    3714294         0      1448480  ...  599.000000          0.457615   \n",
       "206    5102353         0      1307764  ...  599.000000          0.382469   \n",
       "207    1478566      1891       510539  ...  599.000000          0.272084   \n",
       "208    3106708       450       108614  ...  599.000000          0.325676   \n",
       "\n",
       "     mrkdn_pdm  va_pub_0.15  va_pub_0.2  va_pub_0.25  va_pub_0.3  Electronics  \\\n",
       "0     0.368029            1           0            0           0           56   \n",
       "1     0.360911            1           0            0           0           55   \n",
       "2     0.344832            1           1            0           0           63   \n",
       "3     0.356973            1           1            0           0           56   \n",
       "4     0.359990            0           1            0           0           52   \n",
       "..         ...          ...         ...          ...         ...          ...   \n",
       "204   0.371423            0           1            0           0           34   \n",
       "205   0.372676            0           1            1           0           42   \n",
       "206   0.363597            0           0            1           0           41   \n",
       "207   0.360448            0           1            0           0           40   \n",
       "208   0.362766            0           1            0           0           41   \n",
       "\n",
       "     unemployment_rate  is_holiday_week  \n",
       "0                  7.0                0  \n",
       "1                  7.0                0  \n",
       "2                  7.0                0  \n",
       "3                  7.0                0  \n",
       "4                  7.0                1  \n",
       "..                 ...              ...  \n",
       "204                5.8                1  \n",
       "205                5.8                1  \n",
       "206                5.8                0  \n",
       "207                5.8                0  \n",
       "208                5.8                0  \n",
       "\n",
       "[209 rows x 42 columns]"
      ]
     },
     "execution_count": 16,
     "metadata": {},
     "output_type": "execute_result"
    }
   ],
   "source": [
    "df_no_hldy_seas = new_df.drop(hldy_seas_cols, axis = 1)\n",
    "df_no_hldy_seas"
   ]
  },
  {
   "cell_type": "code",
   "execution_count": 17,
   "metadata": {},
   "outputs": [
    {
     "name": "stdout",
     "output_type": "stream",
     "text": [
      "<class 'pandas.core.frame.DataFrame'>\n",
      "Int64Index: 209 entries, 0 to 208\n",
      "Data columns (total 42 columns):\n",
      " #   Column             Non-Null Count  Dtype         \n",
      "---  ------             --------------  -----         \n",
      " 0   wk_strt_dt         209 non-null    datetime64[ns]\n",
      " 1   yr_nbr             209 non-null    int64         \n",
      " 2   qtr_nbr            209 non-null    int64         \n",
      " 3   prd                209 non-null    int64         \n",
      " 4   wk_nbr             209 non-null    int64         \n",
      " 5   wk_in_yr_nbr       209 non-null    int64         \n",
      " 6   mdip_dm            209 non-null    int64         \n",
      " 7   mdip_inst          209 non-null    int64         \n",
      " 8   mdip_nsp           209 non-null    int64         \n",
      " 9   mdip_auddig        209 non-null    int64         \n",
      " 10  mdip_audtr         209 non-null    int64         \n",
      " 11  mdip_vidtr         209 non-null    int64         \n",
      " 12  mdip_viddig        209 non-null    int64         \n",
      " 13  mdip_so            209 non-null    int64         \n",
      " 14  mdip_on            209 non-null    int64         \n",
      " 15  mdip_em            209 non-null    int64         \n",
      " 16  mdip_sms           209 non-null    int64         \n",
      " 17  mdip_aff           209 non-null    int64         \n",
      " 18  mdip_sem           209 non-null    int64         \n",
      " 19  mdsp_dm            209 non-null    float64       \n",
      " 20  mdsp_inst          209 non-null    float64       \n",
      " 21  mdsp_nsp           209 non-null    float64       \n",
      " 22  mdsp_auddig        209 non-null    float64       \n",
      " 23  mdsp_audtr         209 non-null    float64       \n",
      " 24  mdsp_vidtr         209 non-null    float64       \n",
      " 25  mdsp_viddig        209 non-null    float64       \n",
      " 26  mdsp_so            209 non-null    float64       \n",
      " 27  mdsp_on            209 non-null    float64       \n",
      " 28  mdsp_sem           209 non-null    float64       \n",
      " 29  sales              209 non-null    float64       \n",
      " 30  me_ics_all         209 non-null    float64       \n",
      " 31  me_gas_dpg         209 non-null    float64       \n",
      " 32  st_ct              209 non-null    float64       \n",
      " 33  mrkdn_valadd_edw   209 non-null    float64       \n",
      " 34  mrkdn_pdm          209 non-null    float64       \n",
      " 35  va_pub_0.15        209 non-null    int64         \n",
      " 36  va_pub_0.2         209 non-null    int64         \n",
      " 37  va_pub_0.25        209 non-null    int64         \n",
      " 38  va_pub_0.3         209 non-null    int64         \n",
      " 39  Electronics        209 non-null    int32         \n",
      " 40  unemployment_rate  209 non-null    float64       \n",
      " 41  is_holiday_week    209 non-null    int32         \n",
      "dtypes: datetime64[ns](1), float64(17), int32(2), int64(22)\n",
      "memory usage: 68.6 KB\n"
     ]
    }
   ],
   "source": [
    "df_no_hldy_seas.info()"
   ]
  },
  {
   "cell_type": "markdown",
   "metadata": {},
   "source": [
    "## Baseline Model - Vanilla ARIMA on `sales` column"
   ]
  },
  {
   "cell_type": "code",
   "execution_count": 18,
   "metadata": {},
   "outputs": [],
   "source": [
    "df_no_hldy_seas.set_index('wk_strt_dt', inplace = True)"
   ]
  },
  {
   "cell_type": "code",
   "execution_count": 19,
   "metadata": {},
   "outputs": [
    {
     "data": {
      "text/html": [
       "<div>\n",
       "<style scoped>\n",
       "    .dataframe tbody tr th:only-of-type {\n",
       "        vertical-align: middle;\n",
       "    }\n",
       "\n",
       "    .dataframe tbody tr th {\n",
       "        vertical-align: top;\n",
       "    }\n",
       "\n",
       "    .dataframe thead th {\n",
       "        text-align: right;\n",
       "    }\n",
       "</style>\n",
       "<table border=\"1\" class=\"dataframe\">\n",
       "  <thead>\n",
       "    <tr style=\"text-align: right;\">\n",
       "      <th></th>\n",
       "      <th>yr_nbr</th>\n",
       "      <th>qtr_nbr</th>\n",
       "      <th>prd</th>\n",
       "      <th>wk_nbr</th>\n",
       "      <th>wk_in_yr_nbr</th>\n",
       "      <th>mdip_dm</th>\n",
       "      <th>mdip_inst</th>\n",
       "      <th>mdip_nsp</th>\n",
       "      <th>mdip_auddig</th>\n",
       "      <th>mdip_audtr</th>\n",
       "      <th>...</th>\n",
       "      <th>st_ct</th>\n",
       "      <th>mrkdn_valadd_edw</th>\n",
       "      <th>mrkdn_pdm</th>\n",
       "      <th>va_pub_0.15</th>\n",
       "      <th>va_pub_0.2</th>\n",
       "      <th>va_pub_0.25</th>\n",
       "      <th>va_pub_0.3</th>\n",
       "      <th>Electronics</th>\n",
       "      <th>unemployment_rate</th>\n",
       "      <th>is_holiday_week</th>\n",
       "    </tr>\n",
       "    <tr>\n",
       "      <th>wk_strt_dt</th>\n",
       "      <th></th>\n",
       "      <th></th>\n",
       "      <th></th>\n",
       "      <th></th>\n",
       "      <th></th>\n",
       "      <th></th>\n",
       "      <th></th>\n",
       "      <th></th>\n",
       "      <th></th>\n",
       "      <th></th>\n",
       "      <th></th>\n",
       "      <th></th>\n",
       "      <th></th>\n",
       "      <th></th>\n",
       "      <th></th>\n",
       "      <th></th>\n",
       "      <th></th>\n",
       "      <th></th>\n",
       "      <th></th>\n",
       "      <th></th>\n",
       "      <th></th>\n",
       "    </tr>\n",
       "  </thead>\n",
       "  <tbody>\n",
       "    <tr>\n",
       "      <th>2014-08-03</th>\n",
       "      <td>2014</td>\n",
       "      <td>3</td>\n",
       "      <td>7</td>\n",
       "      <td>1</td>\n",
       "      <td>27</td>\n",
       "      <td>4863885</td>\n",
       "      <td>29087520</td>\n",
       "      <td>2421933</td>\n",
       "      <td>692315</td>\n",
       "      <td>37778097</td>\n",
       "      <td>...</td>\n",
       "      <td>716.285714</td>\n",
       "      <td>0.0</td>\n",
       "      <td>0.368029</td>\n",
       "      <td>1</td>\n",
       "      <td>0</td>\n",
       "      <td>0</td>\n",
       "      <td>0</td>\n",
       "      <td>56</td>\n",
       "      <td>7.0</td>\n",
       "      <td>0</td>\n",
       "    </tr>\n",
       "    <tr>\n",
       "      <th>2014-08-10</th>\n",
       "      <td>2014</td>\n",
       "      <td>3</td>\n",
       "      <td>7</td>\n",
       "      <td>2</td>\n",
       "      <td>28</td>\n",
       "      <td>20887502</td>\n",
       "      <td>8345120</td>\n",
       "      <td>3984494</td>\n",
       "      <td>475810</td>\n",
       "      <td>12063657</td>\n",
       "      <td>...</td>\n",
       "      <td>716.428571</td>\n",
       "      <td>0.0</td>\n",
       "      <td>0.360911</td>\n",
       "      <td>1</td>\n",
       "      <td>0</td>\n",
       "      <td>0</td>\n",
       "      <td>0</td>\n",
       "      <td>55</td>\n",
       "      <td>7.0</td>\n",
       "      <td>0</td>\n",
       "    </tr>\n",
       "    <tr>\n",
       "      <th>2014-08-17</th>\n",
       "      <td>2014</td>\n",
       "      <td>3</td>\n",
       "      <td>7</td>\n",
       "      <td>3</td>\n",
       "      <td>29</td>\n",
       "      <td>11097724</td>\n",
       "      <td>17276800</td>\n",
       "      <td>1846832</td>\n",
       "      <td>784732</td>\n",
       "      <td>5770115</td>\n",
       "      <td>...</td>\n",
       "      <td>717.000000</td>\n",
       "      <td>0.0</td>\n",
       "      <td>0.344832</td>\n",
       "      <td>1</td>\n",
       "      <td>1</td>\n",
       "      <td>0</td>\n",
       "      <td>0</td>\n",
       "      <td>63</td>\n",
       "      <td>7.0</td>\n",
       "      <td>0</td>\n",
       "    </tr>\n",
       "    <tr>\n",
       "      <th>2014-08-24</th>\n",
       "      <td>2014</td>\n",
       "      <td>3</td>\n",
       "      <td>7</td>\n",
       "      <td>4</td>\n",
       "      <td>30</td>\n",
       "      <td>1023446</td>\n",
       "      <td>18468480</td>\n",
       "      <td>2394834</td>\n",
       "      <td>1032301</td>\n",
       "      <td>12174000</td>\n",
       "      <td>...</td>\n",
       "      <td>717.000000</td>\n",
       "      <td>0.0</td>\n",
       "      <td>0.356973</td>\n",
       "      <td>1</td>\n",
       "      <td>1</td>\n",
       "      <td>0</td>\n",
       "      <td>0</td>\n",
       "      <td>56</td>\n",
       "      <td>7.0</td>\n",
       "      <td>0</td>\n",
       "    </tr>\n",
       "    <tr>\n",
       "      <th>2014-08-31</th>\n",
       "      <td>2014</td>\n",
       "      <td>3</td>\n",
       "      <td>8</td>\n",
       "      <td>1</td>\n",
       "      <td>31</td>\n",
       "      <td>21109811</td>\n",
       "      <td>26659920</td>\n",
       "      <td>3312008</td>\n",
       "      <td>400456</td>\n",
       "      <td>31656134</td>\n",
       "      <td>...</td>\n",
       "      <td>717.000000</td>\n",
       "      <td>0.0</td>\n",
       "      <td>0.359990</td>\n",
       "      <td>0</td>\n",
       "      <td>1</td>\n",
       "      <td>0</td>\n",
       "      <td>0</td>\n",
       "      <td>52</td>\n",
       "      <td>7.0</td>\n",
       "      <td>1</td>\n",
       "    </tr>\n",
       "  </tbody>\n",
       "</table>\n",
       "<p>5 rows × 41 columns</p>\n",
       "</div>"
      ],
      "text/plain": [
       "            yr_nbr  qtr_nbr  prd  wk_nbr  wk_in_yr_nbr   mdip_dm  mdip_inst  \\\n",
       "wk_strt_dt                                                                    \n",
       "2014-08-03    2014        3    7       1            27   4863885   29087520   \n",
       "2014-08-10    2014        3    7       2            28  20887502    8345120   \n",
       "2014-08-17    2014        3    7       3            29  11097724   17276800   \n",
       "2014-08-24    2014        3    7       4            30   1023446   18468480   \n",
       "2014-08-31    2014        3    8       1            31  21109811   26659920   \n",
       "\n",
       "            mdip_nsp  mdip_auddig  mdip_audtr  ...       st_ct  \\\n",
       "wk_strt_dt                                     ...               \n",
       "2014-08-03   2421933       692315    37778097  ...  716.285714   \n",
       "2014-08-10   3984494       475810    12063657  ...  716.428571   \n",
       "2014-08-17   1846832       784732     5770115  ...  717.000000   \n",
       "2014-08-24   2394834      1032301    12174000  ...  717.000000   \n",
       "2014-08-31   3312008       400456    31656134  ...  717.000000   \n",
       "\n",
       "            mrkdn_valadd_edw  mrkdn_pdm  va_pub_0.15  va_pub_0.2  va_pub_0.25  \\\n",
       "wk_strt_dt                                                                      \n",
       "2014-08-03               0.0   0.368029            1           0            0   \n",
       "2014-08-10               0.0   0.360911            1           0            0   \n",
       "2014-08-17               0.0   0.344832            1           1            0   \n",
       "2014-08-24               0.0   0.356973            1           1            0   \n",
       "2014-08-31               0.0   0.359990            0           1            0   \n",
       "\n",
       "            va_pub_0.3  Electronics  unemployment_rate  is_holiday_week  \n",
       "wk_strt_dt                                                               \n",
       "2014-08-03           0           56                7.0                0  \n",
       "2014-08-10           0           55                7.0                0  \n",
       "2014-08-17           0           63                7.0                0  \n",
       "2014-08-24           0           56                7.0                0  \n",
       "2014-08-31           0           52                7.0                1  \n",
       "\n",
       "[5 rows x 41 columns]"
      ]
     },
     "execution_count": 19,
     "metadata": {},
     "output_type": "execute_result"
    }
   ],
   "source": [
    "df_no_hldy_seas.head()"
   ]
  },
  {
   "cell_type": "code",
   "execution_count": 20,
   "metadata": {},
   "outputs": [
    {
     "data": {
      "text/plain": [
       "Text(0.5, 1.0, 'Weekly Sales (Units)')"
      ]
     },
     "execution_count": 20,
     "metadata": {},
     "output_type": "execute_result"
    },
    {
     "data": {
      "image/png": "[encoded data removed]",
      "text/plain": [
       "<Figure size 1080x1152 with 1 Axes>"
      ]
     },
     "metadata": {
      "needs_background": "light"
     },
     "output_type": "display_data"
    }
   ],
   "source": [
    "plt.figure(figsize = (15, 16))\n",
    "plt.plot(df_no_hldy_seas['sales'])\n",
    "\n",
    "plt.title('Weekly Sales (Units)', fontsize=26)"
   ]
  },
  {
   "cell_type": "code",
   "execution_count": 21,
   "metadata": {},
   "outputs": [],
   "source": [
    "from sklearn.model_selection import train_test_split\n",
    "\n",
    "import statsmodels.api as sm\n",
    "from statsmodels.graphics.tsaplots import plot_acf, plot_pacf"
   ]
  },
  {
   "cell_type": "code",
   "execution_count": 22,
   "metadata": {},
   "outputs": [],
   "source": [
    "# Import Augmented Dickey-Fuller test.\n",
    "from statsmodels.tsa.stattools import adfuller"
   ]
  },
  {
   "cell_type": "code",
   "execution_count": 23,
   "metadata": {},
   "outputs": [
    {
     "data": {
      "text/plain": [
       "(-5.937058849863105,\n",
       " 2.307578482014885e-07,\n",
       " 5,\n",
       " 203,\n",
       " {'1%': -3.462980134086401,\n",
       "  '5%': -2.875885461947131,\n",
       "  '10%': -2.5744164898444515},\n",
       " 7372.235215759946)"
      ]
     },
     "execution_count": 23,
     "metadata": {},
     "output_type": "execute_result"
    }
   ],
   "source": [
    "adfuller(df_no_hldy_seas['sales'])\n",
    "\n",
    "# p-value is very low, so `sales` is likely stationary"
   ]
  },
  {
   "cell_type": "code",
   "execution_count": 24,
   "metadata": {},
   "outputs": [
    {
     "data": {
      "image/png": "[encoded data removed]",
      "text/plain": [
       "<Figure size 432x288 with 1 Axes>"
      ]
     },
     "execution_count": 24,
     "metadata": {},
     "output_type": "execute_result"
    },
    {
     "data": {
      "image/png": "[encoded data removed]",
      "text/plain": [
       "<Figure size 432x288 with 1 Axes>"
      ]
     },
     "metadata": {
      "needs_background": "light"
     },
     "output_type": "display_data"
    }
   ],
   "source": [
    "plot_acf(df_no_hldy_seas['sales'])"
   ]
  },
  {
   "cell_type": "code",
   "execution_count": 25,
   "metadata": {},
   "outputs": [
    {
     "data": {
      "image/png": "[encoded data removed]",
      "text/plain": [
       "<Figure size 432x288 with 1 Axes>"
      ]
     },
     "execution_count": 25,
     "metadata": {},
     "output_type": "execute_result"
    },
    {
     "data": {
      "image/png": "[encoded data removed]",
      "text/plain": [
       "<Figure size 432x288 with 1 Axes>"
      ]
     },
     "metadata": {
      "needs_background": "light"
     },
     "output_type": "display_data"
    }
   ],
   "source": [
    "plot_pacf(df_no_hldy_seas['sales'])"
   ]
  },
  {
   "cell_type": "markdown",
   "metadata": {},
   "source": [
    "Sharp cutoff around $p = 4$, so that is a good candidate for parameter $p$ in the `ARIMA(p, d, q)` model"
   ]
  },
  {
   "cell_type": "code",
   "execution_count": 26,
   "metadata": {},
   "outputs": [],
   "source": [
    "# Create train-test split.\n",
    "X_train, X_test, y_train, y_test = train_test_split(df_no_hldy_seas.drop(['sales'], axis=1),\n",
    "                                                    df_no_hldy_seas['sales'],\n",
    "                                                    test_size = 0.3,\n",
    "                                                    shuffle = False) # Shuffle = False is IMPORTANT!"
   ]
  },
  {
   "cell_type": "code",
   "execution_count": 27,
   "metadata": {},
   "outputs": [
    {
     "data": {
      "text/plain": [
       "DatetimeIndex(['2017-05-21', '2017-05-28', '2017-06-04', '2017-06-11',\n",
       "               '2017-06-18', '2017-06-25', '2017-07-02', '2017-07-09',\n",
       "               '2017-07-16', '2017-07-23', '2017-07-30', '2017-08-06',\n",
       "               '2017-08-13', '2017-08-20', '2017-08-27', '2017-09-03',\n",
       "               '2017-09-10', '2017-09-17', '2017-09-24', '2017-10-01',\n",
       "               '2017-10-08', '2017-10-15', '2017-10-22', '2017-10-29',\n",
       "               '2017-11-05', '2017-11-12', '2017-11-19', '2017-11-26',\n",
       "               '2017-12-03', '2017-12-10', '2017-12-17', '2017-12-24',\n",
       "               '2017-12-31', '2018-01-07', '2018-01-14', '2018-01-21',\n",
       "               '2018-01-28', '2018-02-04', '2018-02-11', '2018-02-18',\n",
       "               '2018-02-25', '2018-03-04', '2018-03-11', '2018-03-18',\n",
       "               '2018-03-25', '2018-04-01', '2018-04-08', '2018-04-15',\n",
       "               '2018-04-22', '2018-04-29', '2018-05-06', '2018-05-13',\n",
       "               '2018-05-20', '2018-05-27', '2018-06-03', '2018-06-10',\n",
       "               '2018-06-17', '2018-06-24', '2018-07-01', '2018-07-08',\n",
       "               '2018-07-15', '2018-07-22', '2018-07-29'],\n",
       "              dtype='datetime64[ns]', name='wk_strt_dt', freq=None)"
      ]
     },
     "execution_count": 27,
     "metadata": {},
     "output_type": "execute_result"
    }
   ],
   "source": [
    "y_test.index"
   ]
  },
  {
   "cell_type": "code",
   "execution_count": 28,
   "metadata": {},
   "outputs": [],
   "source": [
    "from statsmodels.tsa.arima_model import ARIMA"
   ]
  },
  {
   "cell_type": "code",
   "execution_count": 29,
   "metadata": {},
   "outputs": [
    {
     "name": "stderr",
     "output_type": "stream",
     "text": [
      "C:\\Users\\gabri\\.conda\\envs\\myenv\\lib\\site-packages\\statsmodels\\tsa\\arima_model.py:472: FutureWarning: \n",
      "statsmodels.tsa.arima_model.ARMA and statsmodels.tsa.arima_model.ARIMA have\n",
      "been deprecated in favor of statsmodels.tsa.arima.model.ARIMA (note the .\n",
      "between arima and model) and\n",
      "statsmodels.tsa.SARIMAX. These will be removed after the 0.12 release.\n",
      "\n",
      "statsmodels.tsa.arima.model.ARIMA makes use of the statespace framework and\n",
      "is both well tested and maintained.\n",
      "\n",
      "To silence this warning and continue using ARMA and ARIMA until they are\n",
      "removed, use:\n",
      "\n",
      "import warnings\n",
      "warnings.filterwarnings('ignore', 'statsmodels.tsa.arima_model.ARMA',\n",
      "                        FutureWarning)\n",
      "warnings.filterwarnings('ignore', 'statsmodels.tsa.arima_model.ARIMA',\n",
      "                        FutureWarning)\n",
      "\n",
      "  warnings.warn(ARIMA_DEPRECATION_WARN, FutureWarning)\n",
      "C:\\Users\\gabri\\.conda\\envs\\myenv\\lib\\site-packages\\statsmodels\\tsa\\base\\tsa_model.py:527: ValueWarning: No frequency information was provided, so inferred frequency W-SUN will be used.\n",
      "  % freq, ValueWarning)\n"
     ]
    }
   ],
   "source": [
    "model = ARIMA(endog = y_train.astype(float).dropna(), # endog = Y variable\n",
    "              order = (4,0,0)) # (p, d, q) <-- talk about q later!"
   ]
  },
  {
   "cell_type": "code",
   "execution_count": 30,
   "metadata": {},
   "outputs": [],
   "source": [
    "arima_4_0_0 = model.fit()"
   ]
  },
  {
   "cell_type": "code",
   "execution_count": 31,
   "metadata": {},
   "outputs": [
    {
     "data": {
      "text/plain": [
       "datetime.datetime(2017, 5, 21, 0, 0)"
      ]
     },
     "execution_count": 31,
     "metadata": {},
     "output_type": "execute_result"
    }
   ],
   "source": [
    "np.datetime64(y_test.index[0]).astype(datetime)"
   ]
  },
  {
   "cell_type": "code",
   "execution_count": 32,
   "metadata": {},
   "outputs": [],
   "source": [
    "# Generate predictions.\n",
    "preds_baseline = model.predict(params=arima_4_0_0.params,\n",
    "                      start=np.datetime64(y_test.index[0]).astype(datetime),\n",
    "                      end=np.datetime64(y_test.index[-1]).astype(datetime))"
   ]
  },
  {
   "cell_type": "code",
   "execution_count": 33,
   "metadata": {
    "scrolled": false
   },
   "outputs": [
    {
     "data": {
      "image/png": "[encoded data removed]",
      "text/plain": [
       "<Figure size 1440x720 with 1 Axes>"
      ]
     },
     "metadata": {
      "needs_background": "light"
     },
     "output_type": "display_data"
    }
   ],
   "source": [
    "# Plot data.\n",
    "\n",
    "# Set figure size.\n",
    "plt.figure(figsize=(20,10))\n",
    "\n",
    "# Plot training data.\n",
    "plt.plot(y_train.index, pd.DataFrame(y_train), color = 'blue')\n",
    "\n",
    "# Plot testing data.\n",
    "plt.plot(y_test.index, pd.DataFrame(y_test), color = 'orange')\n",
    "\n",
    "# Plot predicted test values.\n",
    "plt.plot(y_test.index, preds_baseline, color = 'green')\n",
    "\n",
    "# Set label.\n",
    "plt.title(label = 'Weekly Sales with ARIMA(4,0,0) Predictions', fontsize=24)\n",
    "\n",
    "# Resize tick marks.\n",
    "plt.xticks(fontsize=20)\n",
    "plt.yticks(fontsize=20);"
   ]
  },
  {
   "cell_type": "code",
   "execution_count": null,
   "metadata": {},
   "outputs": [],
   "source": []
  },
  {
   "cell_type": "markdown",
   "metadata": {},
   "source": [
    "## ARIMA model with Exogenous Predictors"
   ]
  },
  {
   "cell_type": "code",
   "execution_count": 34,
   "metadata": {},
   "outputs": [],
   "source": [
    "train, test = train_test_split(df_no_hldy_seas, test_size = 0.3, shuffle = False)"
   ]
  },
  {
   "cell_type": "code",
   "execution_count": 35,
   "metadata": {},
   "outputs": [],
   "source": [
    "# Standard Scaler\n",
    "from sklearn.preprocessing import StandardScaler\n",
    "\n",
    "ss = StandardScaler()\n",
    "X_train_ss = ss.fit_transform(X_train)\n",
    "X_test_ss = ss.transform(X_test)"
   ]
  },
  {
   "cell_type": "code",
   "execution_count": 36,
   "metadata": {},
   "outputs": [
    {
     "name": "stderr",
     "output_type": "stream",
     "text": [
      "C:\\Users\\gabri\\.conda\\envs\\myenv\\lib\\site-packages\\statsmodels\\tsa\\arima_model.py:472: FutureWarning: \n",
      "statsmodels.tsa.arima_model.ARMA and statsmodels.tsa.arima_model.ARIMA have\n",
      "been deprecated in favor of statsmodels.tsa.arima.model.ARIMA (note the .\n",
      "between arima and model) and\n",
      "statsmodels.tsa.SARIMAX. These will be removed after the 0.12 release.\n",
      "\n",
      "statsmodels.tsa.arima.model.ARIMA makes use of the statespace framework and\n",
      "is both well tested and maintained.\n",
      "\n",
      "To silence this warning and continue using ARMA and ARIMA until they are\n",
      "removed, use:\n",
      "\n",
      "import warnings\n",
      "warnings.filterwarnings('ignore', 'statsmodels.tsa.arima_model.ARMA',\n",
      "                        FutureWarning)\n",
      "warnings.filterwarnings('ignore', 'statsmodels.tsa.arima_model.ARIMA',\n",
      "                        FutureWarning)\n",
      "\n",
      "  warnings.warn(ARIMA_DEPRECATION_WARN, FutureWarning)\n",
      "C:\\Users\\gabri\\.conda\\envs\\myenv\\lib\\site-packages\\statsmodels\\tsa\\base\\tsa_model.py:527: ValueWarning: No frequency information was provided, so inferred frequency W-SUN will be used.\n",
      "  % freq, ValueWarning)\n"
     ]
    }
   ],
   "source": [
    "model_exog_arima = ARIMA(endog = y_train.astype(float).dropna(), # endog = Y variable\n",
    "                          order = (3,0,0), # (p, d, q) <-- talk about q later!\n",
    "                          exog = X_train_ss)"
   ]
  },
  {
   "cell_type": "code",
   "execution_count": 37,
   "metadata": {},
   "outputs": [
    {
     "name": "stderr",
     "output_type": "stream",
     "text": [
      "C:\\Users\\gabri\\.conda\\envs\\myenv\\lib\\site-packages\\statsmodels\\base\\model.py:548: HessianInversionWarning: Inverting hessian failed, no bse or cov_params available\n",
      "  'available', HessianInversionWarning)\n"
     ]
    }
   ],
   "source": [
    "ts_model = model_exog_arima.fit()"
   ]
  },
  {
   "cell_type": "code",
   "execution_count": 38,
   "metadata": {},
   "outputs": [],
   "source": [
    "preds_exog = ts_model.predict(start=np.datetime64(y_test.index[0]).astype(datetime),\n",
    "                          end=np.datetime64(y_test.index[-1]).astype(datetime),\n",
    "                          exog=X_test_ss)\n"
   ]
  },
  {
   "cell_type": "code",
   "execution_count": 61,
   "metadata": {
    "scrolled": false
   },
   "outputs": [
    {
     "data": {
      "image/png": "[encoded data removed]",
      "text/plain": [
       "<Figure size 1440x720 with 1 Axes>"
      ]
     },
     "metadata": {
      "needs_background": "light"
     },
     "output_type": "display_data"
    }
   ],
   "source": [
    "# Plot data.\n",
    "\n",
    "# Set figure size.\n",
    "plt.figure(figsize=(20,10))\n",
    "\n",
    "# Plot training data.\n",
    "plt.plot(y_train.index, pd.DataFrame(y_train), color = 'blue')\n",
    "\n",
    "# Plot testing data.\n",
    "plt.plot(y_test.index, pd.DataFrame(y_test), color = 'orange')\n",
    "\n",
    "# Plot predicted test values.\n",
    "plt.plot(y_test.index, preds_exog, color = 'green')\n",
    "\n",
    "# Set label.\n",
    "plt.title(label = 'Weekly Sales with ARIMA(4,0,0) (and Exogeneous Predictors) Predictions', fontsize=24)\n",
    "\n",
    "# Resize tick marks.\n",
    "plt.xticks(fontsize=20)\n",
    "plt.yticks(fontsize=20);"
   ]
  },
  {
   "cell_type": "code",
   "execution_count": null,
   "metadata": {},
   "outputs": [],
   "source": []
  },
  {
   "cell_type": "markdown",
   "metadata": {},
   "source": [
    "## FBProphet"
   ]
  },
  {
   "cell_type": "code",
   "execution_count": null,
   "metadata": {},
   "outputs": [],
   "source": []
  },
  {
   "cell_type": "markdown",
   "metadata": {},
   "source": [
    "## RNN"
   ]
  },
  {
   "cell_type": "code",
   "execution_count": 40,
   "metadata": {
    "scrolled": true
   },
   "outputs": [],
   "source": [
    "import tensorflow as tf"
   ]
  },
  {
   "cell_type": "code",
   "execution_count": 41,
   "metadata": {},
   "outputs": [
    {
     "name": "stdout",
     "output_type": "stream",
     "text": [
      "2.4.1\n"
     ]
    }
   ],
   "source": [
    "print(tf.__version__)"
   ]
  },
  {
   "cell_type": "code",
   "execution_count": 43,
   "metadata": {},
   "outputs": [],
   "source": [
    "from tensorflow.keras.models import Sequential\n",
    "from tensorflow.keras.layers import Dense, Dropout, GRU\n",
    "from tensorflow.keras.optimizers import Adam\n",
    "from tensorflow.keras.preprocessing.sequence import TimeseriesGenerator\n"
   ]
  },
  {
   "cell_type": "code",
   "execution_count": 44,
   "metadata": {},
   "outputs": [],
   "source": [
    "# Create training sequences\n",
    "train_seq = TimeseriesGenerator(X_train_ss, y_train, length = 4, batch_size = 64)"
   ]
  },
  {
   "cell_type": "code",
   "execution_count": null,
   "metadata": {},
   "outputs": [],
   "source": []
  },
  {
   "cell_type": "code",
   "execution_count": 46,
   "metadata": {},
   "outputs": [
    {
     "data": {
      "text/plain": [
       "(64, 4, 40)"
      ]
     },
     "execution_count": 46,
     "metadata": {},
     "output_type": "execute_result"
    }
   ],
   "source": [
    "train_seq[0][0].shape"
   ]
  },
  {
   "cell_type": "code",
   "execution_count": 47,
   "metadata": {},
   "outputs": [],
   "source": [
    "# Create test sequences\n",
    "test_seq = TimeseriesGenerator(X_test_ss, y_test, length = 4, batch_size = 64)"
   ]
  },
  {
   "cell_type": "code",
   "execution_count": 48,
   "metadata": {},
   "outputs": [],
   "source": [
    "# Design RNN\n",
    "\n",
    "model = Sequential()\n",
    "model.add(GRU(128, input_shape = train_seq[0][0].shape[1:], return_sequences = True))\n",
    "model.add(GRU(64))\n",
    "model.add(Dense(32, activation = 'relu'))\n",
    "model.add(Dense(1, activation = 'relu'))"
   ]
  },
  {
   "cell_type": "code",
   "execution_count": 49,
   "metadata": {},
   "outputs": [
    {
     "name": "stdout",
     "output_type": "stream",
     "text": [
      "Model: \"sequential\"\n",
      "_________________________________________________________________\n",
      "Layer (type)                 Output Shape              Param #   \n",
      "=================================================================\n",
      "gru (GRU)                    (None, 4, 128)            65280     \n",
      "_________________________________________________________________\n",
      "gru_1 (GRU)                  (None, 64)                37248     \n",
      "_________________________________________________________________\n",
      "dense (Dense)                (None, 32)                2080      \n",
      "_________________________________________________________________\n",
      "dense_1 (Dense)              (None, 1)                 33        \n",
      "=================================================================\n",
      "Total params: 104,641\n",
      "Trainable params: 104,641\n",
      "Non-trainable params: 0\n",
      "_________________________________________________________________\n"
     ]
    }
   ],
   "source": [
    "model.summary()"
   ]
  },
  {
   "cell_type": "code",
   "execution_count": 50,
   "metadata": {},
   "outputs": [],
   "source": [
    "model.compile(optimizer = Adam(learning_rate=0.0001), loss = 'mean_squared_error')"
   ]
  },
  {
   "cell_type": "code",
   "execution_count": 51,
   "metadata": {
    "scrolled": false
   },
   "outputs": [
    {
     "name": "stdout",
     "output_type": "stream",
     "text": [
      "Epoch 1/100\n",
      "3/3 [==============================] - 5s 542ms/step - loss: 16144633620856832.0000 - val_loss: 13319731893239808.0000\n",
      "Epoch 2/100\n",
      "3/3 [==============================] - 0s 34ms/step - loss: 16144633620856832.0000 - val_loss: 13319731893239808.0000\n",
      "Epoch 3/100\n",
      "3/3 [==============================] - 0s 33ms/step - loss: 16144633620856832.0000 - val_loss: 13319731893239808.0000\n",
      "Epoch 4/100\n",
      "3/3 [==============================] - 0s 49ms/step - loss: 13953562765688832.0000 - val_loss: 13319731893239808.0000\n",
      "Epoch 5/100\n",
      "3/3 [==============================] - 0s 33ms/step - loss: 16201882313687040.0000 - val_loss: 13319731893239808.0000\n",
      "Epoch 6/100\n",
      "3/3 [==============================] - 0s 46ms/step - loss: 13953562765688832.0000 - val_loss: 13319731893239808.0000\n",
      "Epoch 7/100\n",
      "3/3 [==============================] - 0s 33ms/step - loss: 13953562765688832.0000 - val_loss: 13319731893239808.0000\n",
      "Epoch 8/100\n",
      "3/3 [==============================] - 0s 36ms/step - loss: 13953562765688832.0000 - val_loss: 13319731893239808.0000\n",
      "Epoch 9/100\n",
      "3/3 [==============================] - 0s 42ms/step - loss: 13953562765688832.0000 - val_loss: 13319731893239808.0000\n",
      "Epoch 10/100\n",
      "3/3 [==============================] - 0s 40ms/step - loss: 15682749079748608.0000 - val_loss: 13319731893239808.0000\n",
      "Epoch 11/100\n",
      "3/3 [==============================] - 0s 35ms/step - loss: 15199544589418496.0000 - val_loss: 13319731893239808.0000\n",
      "Epoch 12/100\n",
      "3/3 [==============================] - 0s 31ms/step - loss: 16201882313687040.0000 - val_loss: 13319731893239808.0000\n",
      "Epoch 13/100\n",
      "3/3 [==============================] - 0s 55ms/step - loss: 13953562765688832.0000 - val_loss: 13319731893239808.0000\n",
      "Epoch 14/100\n",
      "3/3 [==============================] - 0s 33ms/step - loss: 15682749079748608.0000 - val_loss: 13319731893239808.0000\n",
      "Epoch 15/100\n",
      "3/3 [==============================] - 0s 31ms/step - loss: 14379518563188736.0000 - val_loss: 13319731893239808.0000\n",
      "Epoch 16/100\n",
      "3/3 [==============================] - 0s 34ms/step - loss: 15682749079748608.0000 - val_loss: 13319731893239808.0000\n",
      "Epoch 17/100\n",
      "3/3 [==============================] - 0s 32ms/step - loss: 15682749079748608.0000 - val_loss: 13319731893239808.0000\n",
      "Epoch 18/100\n",
      "3/3 [==============================] - 0s 50ms/step - loss: 15199544589418496.0000 - val_loss: 13319731893239808.0000\n",
      "Epoch 19/100\n",
      "3/3 [==============================] - 0s 44ms/step - loss: 16201882313687040.0000 - val_loss: 13319731893239808.0000\n",
      "Epoch 20/100\n",
      "3/3 [==============================] - 0s 37ms/step - loss: 16144633620856832.0000 - val_loss: 13319731893239808.0000\n",
      "Epoch 21/100\n",
      "3/3 [==============================] - 0s 31ms/step - loss: 14379518563188736.0000 - val_loss: 13319731893239808.0000\n",
      "Epoch 22/100\n",
      "3/3 [==============================] - 0s 31ms/step - loss: 16201882313687040.0000 - val_loss: 13319731893239808.0000\n",
      "Epoch 23/100\n",
      "3/3 [==============================] - 0s 44ms/step - loss: 15682749079748608.0000 - val_loss: 13319731893239808.0000\n",
      "Epoch 24/100\n",
      "3/3 [==============================] - 0s 38ms/step - loss: 14379518563188736.0000 - val_loss: 13319731893239808.0000\n",
      "Epoch 25/100\n",
      "3/3 [==============================] - 0s 31ms/step - loss: 16144633620856832.0000 - val_loss: 13319731893239808.0000\n",
      "Epoch 26/100\n",
      "3/3 [==============================] - 0s 32ms/step - loss: 13953562765688832.0000 - val_loss: 13319731893239808.0000\n",
      "Epoch 27/100\n",
      "3/3 [==============================] - 0s 34ms/step - loss: 15682749079748608.0000 - val_loss: 13319731893239808.0000\n",
      "Epoch 28/100\n",
      "3/3 [==============================] - 0s 35ms/step - loss: 14379518563188736.0000 - val_loss: 13319731893239808.0000\n",
      "Epoch 29/100\n",
      "3/3 [==============================] - 0s 33ms/step - loss: 13953562765688832.0000 - val_loss: 13319731893239808.0000\n",
      "Epoch 30/100\n",
      "3/3 [==============================] - 0s 33ms/step - loss: 16144633620856832.0000 - val_loss: 13319731893239808.0000\n",
      "Epoch 31/100\n",
      "3/3 [==============================] - 0s 33ms/step - loss: 13953562765688832.0000 - val_loss: 13319731893239808.0000\n",
      "Epoch 32/100\n",
      "3/3 [==============================] - 0s 31ms/step - loss: 14379518563188736.0000 - val_loss: 13319731893239808.0000\n",
      "Epoch 33/100\n",
      "3/3 [==============================] - 0s 33ms/step - loss: 15199544589418496.0000 - val_loss: 13319731893239808.0000\n",
      "Epoch 34/100\n",
      "3/3 [==============================] - 0s 33ms/step - loss: 16144633620856832.0000 - val_loss: 13319731893239808.0000\n",
      "Epoch 35/100\n",
      "3/3 [==============================] - 0s 34ms/step - loss: 15682749079748608.0000 - val_loss: 13319731893239808.0000\n",
      "Epoch 36/100\n",
      "3/3 [==============================] - 0s 34ms/step - loss: 13953562765688832.0000 - val_loss: 13319731893239808.0000\n",
      "Epoch 37/100\n",
      "3/3 [==============================] - 0s 31ms/step - loss: 16144633620856832.0000 - val_loss: 13319731893239808.0000\n",
      "Epoch 38/100\n",
      "3/3 [==============================] - 0s 37ms/step - loss: 13953562765688832.0000 - val_loss: 13319731893239808.0000\n",
      "Epoch 39/100\n",
      "3/3 [==============================] - 0s 33ms/step - loss: 13953562765688832.0000 - val_loss: 13319731893239808.0000\n",
      "Epoch 40/100\n",
      "3/3 [==============================] - 0s 33ms/step - loss: 16144633620856832.0000 - val_loss: 13319731893239808.0000\n",
      "Epoch 41/100\n",
      "3/3 [==============================] - 0s 31ms/step - loss: 16144633620856832.0000 - val_loss: 13319731893239808.0000\n",
      "Epoch 42/100\n",
      "3/3 [==============================] - 0s 33ms/step - loss: 13953562765688832.0000 - val_loss: 13319731893239808.0000\n",
      "Epoch 43/100\n",
      "3/3 [==============================] - 0s 32ms/step - loss: 16144633083985920.0000 - val_loss: 13319730819497984.0000\n",
      "Epoch 44/100\n",
      "3/3 [==============================] - 0s 33ms/step - loss: 13953562497253376.0000 - val_loss: 13319730819497984.0000\n",
      "Epoch 45/100\n",
      "3/3 [==============================] - 0s 30ms/step - loss: 16144633083985920.0000 - val_loss: 13319730819497984.0000\n",
      "Epoch 46/100\n",
      "3/3 [==============================] - 0s 33ms/step - loss: 16144633083985920.0000 - val_loss: 13319730819497984.0000\n",
      "Epoch 47/100\n",
      "3/3 [==============================] - 0s 34ms/step - loss: 15199544589418496.0000 - val_loss: 13319730819497984.0000\n",
      "Epoch 48/100\n",
      "3/3 [==============================] - 0s 34ms/step - loss: 15199544589418496.0000 - val_loss: 13319730819497984.0000\n",
      "Epoch 49/100\n",
      "3/3 [==============================] - 0s 35ms/step - loss: 15682749079748608.0000 - val_loss: 13319730819497984.0000\n",
      "Epoch 50/100\n",
      "3/3 [==============================] - 0s 35ms/step - loss: 15199544589418496.0000 - val_loss: 13319730819497984.0000\n",
      "Epoch 51/100\n",
      "3/3 [==============================] - 0s 34ms/step - loss: 16201882313687040.0000 - val_loss: 13319730819497984.0000\n",
      "Epoch 52/100\n",
      "3/3 [==============================] - 0s 41ms/step - loss: 13953562497253376.0000 - val_loss: 13319730819497984.0000\n",
      "Epoch 53/100\n",
      "3/3 [==============================] - 0s 33ms/step - loss: 15682748274442240.0000 - val_loss: 13319730819497984.0000\n",
      "Epoch 54/100\n",
      "3/3 [==============================] - 0s 34ms/step - loss: 14379517757882368.0000 - val_loss: 13319730819497984.0000\n",
      "Epoch 55/100\n",
      "3/3 [==============================] - 0s 30ms/step - loss: 16144632815550464.0000 - val_loss: 13319730819497984.0000\n",
      "Epoch 56/100\n",
      "3/3 [==============================] - 0s 35ms/step - loss: 15199544589418496.0000 - val_loss: 13319730819497984.0000\n",
      "Epoch 57/100\n",
      "3/3 [==============================] - 0s 34ms/step - loss: 13953562497253376.0000 - val_loss: 13319730819497984.0000\n",
      "Epoch 58/100\n",
      "3/3 [==============================] - 0s 33ms/step - loss: 16201881239945216.0000 - val_loss: 13319730819497984.0000\n",
      "Epoch 59/100\n",
      "3/3 [==============================] - 0s 35ms/step - loss: 15199544589418496.0000 - val_loss: 13319730819497984.0000\n",
      "Epoch 60/100\n",
      "3/3 [==============================] - 0s 36ms/step - loss: 16201881239945216.0000 - val_loss: 13319730819497984.0000\n",
      "Epoch 61/100\n",
      "3/3 [==============================] - 0s 38ms/step - loss: 15199544320983040.0000 - val_loss: 13319729745756160.0000\n",
      "Epoch 62/100\n",
      "3/3 [==============================] - 0s 30ms/step - loss: 16144632815550464.0000 - val_loss: 13319729745756160.0000\n",
      "Epoch 63/100\n"
     ]
    },
    {
     "name": "stdout",
     "output_type": "stream",
     "text": [
      "3/3 [==============================] - 0s 35ms/step - loss: 14379517757882368.0000 - val_loss: 13319729745756160.0000\n",
      "Epoch 64/100\n",
      "3/3 [==============================] - 0s 36ms/step - loss: 15199544320983040.0000 - val_loss: 13319729745756160.0000\n",
      "Epoch 65/100\n",
      "3/3 [==============================] - 0s 34ms/step - loss: 15682748006006784.0000 - val_loss: 13319729745756160.0000\n",
      "Epoch 66/100\n",
      "3/3 [==============================] - 0s 34ms/step - loss: 16144632815550464.0000 - val_loss: 13319729745756160.0000\n",
      "Epoch 67/100\n",
      "3/3 [==============================] - 0s 31ms/step - loss: 16144632815550464.0000 - val_loss: 13319729745756160.0000\n",
      "Epoch 68/100\n",
      "3/3 [==============================] - 0s 43ms/step - loss: 14379517757882368.0000 - val_loss: 13319729745756160.0000\n",
      "Epoch 69/100\n",
      "3/3 [==============================] - 0s 50ms/step - loss: 13953562497253376.0000 - val_loss: 13319729745756160.0000\n",
      "Epoch 70/100\n",
      "3/3 [==============================] - 0s 43ms/step - loss: 16201881239945216.0000 - val_loss: 13319729745756160.0000\n",
      "Epoch 71/100\n",
      "3/3 [==============================] - 0s 33ms/step - loss: 15199543247241216.0000 - val_loss: 13319729745756160.0000\n",
      "Epoch 72/100\n",
      "3/3 [==============================] - 0s 34ms/step - loss: 16144632278679552.0000 - val_loss: 13319729745756160.0000\n",
      "Epoch 73/100\n",
      "3/3 [==============================] - 0s 36ms/step - loss: 15682747737571328.0000 - val_loss: 13319729745756160.0000\n",
      "Epoch 74/100\n",
      "3/3 [==============================] - 0s 33ms/step - loss: 15682746932264960.0000 - val_loss: 13319729745756160.0000\n",
      "Epoch 75/100\n",
      "3/3 [==============================] - 0s 33ms/step - loss: 16144631204937728.0000 - val_loss: 13319729745756160.0000\n",
      "Epoch 76/100\n",
      "3/3 [==============================] - 0s 33ms/step - loss: 15682746932264960.0000 - val_loss: 13319729745756160.0000\n",
      "Epoch 77/100\n",
      "3/3 [==============================] - 0s 32ms/step - loss: 15682746932264960.0000 - val_loss: 13319729745756160.0000\n",
      "Epoch 78/100\n",
      "3/3 [==============================] - 0s 32ms/step - loss: 15682746932264960.0000 - val_loss: 13319729745756160.0000\n",
      "Epoch 79/100\n",
      "3/3 [==============================] - 0s 34ms/step - loss: 16144631204937728.0000 - val_loss: 13319729745756160.0000\n",
      "Epoch 80/100\n",
      "3/3 [==============================] - 0s 38ms/step - loss: 16201880166203392.0000 - val_loss: 13319729745756160.0000\n",
      "Epoch 81/100\n",
      "3/3 [==============================] - 0s 34ms/step - loss: 15682746932264960.0000 - val_loss: 13319729745756160.0000\n",
      "Epoch 82/100\n",
      "3/3 [==============================] - 0s 31ms/step - loss: 15199542441934848.0000 - val_loss: 13319729745756160.0000\n",
      "Epoch 83/100\n",
      "3/3 [==============================] - 0s 37ms/step - loss: 16144631204937728.0000 - val_loss: 13319728672014336.0000\n",
      "Epoch 84/100\n",
      "3/3 [==============================] - 0s 35ms/step - loss: 13953560349769728.0000 - val_loss: 13319727598272512.0000\n",
      "Epoch 85/100\n",
      "3/3 [==============================] - 0s 44ms/step - loss: 16144631204937728.0000 - val_loss: 13319727598272512.0000\n",
      "Epoch 86/100\n",
      "3/3 [==============================] - 0s 39ms/step - loss: 16144631204937728.0000 - val_loss: 13319727598272512.0000\n",
      "Epoch 87/100\n",
      "3/3 [==============================] - 0s 35ms/step - loss: 13953560349769728.0000 - val_loss: 13319727598272512.0000\n",
      "Epoch 88/100\n",
      "3/3 [==============================] - 0s 31ms/step - loss: 15199542441934848.0000 - val_loss: 13319727598272512.0000\n",
      "Epoch 89/100\n",
      "3/3 [==============================] - 0s 39ms/step - loss: 13953560349769728.0000 - val_loss: 13319727598272512.0000\n",
      "Epoch 90/100\n",
      "3/3 [==============================] - 0s 42ms/step - loss: 15682746932264960.0000 - val_loss: 13319727598272512.0000\n",
      "Epoch 91/100\n",
      "3/3 [==============================] - 0s 45ms/step - loss: 14379515878834176.0000 - val_loss: 13319727598272512.0000\n",
      "Epoch 92/100\n",
      "3/3 [==============================] - 0s 33ms/step - loss: 16144631204937728.0000 - val_loss: 13319727598272512.0000\n",
      "Epoch 93/100\n",
      "3/3 [==============================] - 0s 33ms/step - loss: 15199542441934848.0000 - val_loss: 13319727598272512.0000\n",
      "Epoch 94/100\n",
      "3/3 [==============================] - 0s 36ms/step - loss: 15199542441934848.0000 - val_loss: 13319727598272512.0000\n",
      "Epoch 95/100\n",
      "3/3 [==============================] - 0s 41ms/step - loss: 15682746932264960.0000 - val_loss: 13319727598272512.0000\n",
      "Epoch 96/100\n",
      "3/3 [==============================] - 0s 43ms/step - loss: 13953559544463360.0000 - val_loss: 13319727598272512.0000\n",
      "Epoch 97/100\n",
      "3/3 [==============================] - 0s 37ms/step - loss: 16201879092461568.0000 - val_loss: 13319727598272512.0000\n",
      "Epoch 98/100\n",
      "3/3 [==============================] - 0s 33ms/step - loss: 16144630936502272.0000 - val_loss: 13319727598272512.0000\n",
      "Epoch 99/100\n",
      "3/3 [==============================] - 0s 31ms/step - loss: 15682745858523136.0000 - val_loss: 13319727598272512.0000\n",
      "Epoch 100/100\n",
      "3/3 [==============================] - 0s 44ms/step - loss: 15199541368193024.0000 - val_loss: 13319727598272512.0000\n"
     ]
    }
   ],
   "source": [
    "history = model.fit(train_seq, \n",
    "                    validation_data = test_seq, \n",
    "                    epochs = 100)"
   ]
  },
  {
   "cell_type": "code",
   "execution_count": 54,
   "metadata": {
    "scrolled": false
   },
   "outputs": [
    {
     "data": {
      "text/plain": [
       "<AxesSubplot:>"
      ]
     },
     "execution_count": 54,
     "metadata": {},
     "output_type": "execute_result"
    },
    {
     "data": {
      "image/png": "[encoded data removed]",
      "text/plain": [
       "<Figure size 1152x864 with 1 Axes>"
      ]
     },
     "metadata": {
      "needs_background": "light"
     },
     "output_type": "display_data"
    }
   ],
   "source": [
    "pd.DataFrame(history.history).plot(figsize=(16,12))"
   ]
  },
  {
   "cell_type": "markdown",
   "metadata": {},
   "source": [
    "## Metrics"
   ]
  },
  {
   "cell_type": "code",
   "execution_count": 55,
   "metadata": {},
   "outputs": [],
   "source": [
    "from sklearn.metrics import r2_score, mean_squared_error"
   ]
  },
  {
   "cell_type": "code",
   "execution_count": 56,
   "metadata": {},
   "outputs": [
    {
     "data": {
      "text/plain": [
       "-0.016180439049463313"
      ]
     },
     "execution_count": 56,
     "metadata": {},
     "output_type": "execute_result"
    }
   ],
   "source": [
    "r2_score(y_test, preds_baseline)"
   ]
  },
  {
   "cell_type": "code",
   "execution_count": 57,
   "metadata": {},
   "outputs": [
    {
     "data": {
      "text/plain": [
       "0.27645902944209433"
      ]
     },
     "execution_count": 57,
     "metadata": {},
     "output_type": "execute_result"
    }
   ],
   "source": [
    "r2_score(y_test, preds_exog)"
   ]
  },
  {
   "cell_type": "code",
   "execution_count": 58,
   "metadata": {},
   "outputs": [
    {
     "data": {
      "text/plain": [
       "2416472536751213.5"
      ]
     },
     "execution_count": 58,
     "metadata": {},
     "output_type": "execute_result"
    }
   ],
   "source": [
    "mean_squared_error(y_test, preds_baseline)"
   ]
  },
  {
   "cell_type": "code",
   "execution_count": 59,
   "metadata": {},
   "outputs": [
    {
     "data": {
      "text/plain": [
       "1720577190211385.5"
      ]
     },
     "execution_count": 59,
     "metadata": {},
     "output_type": "execute_result"
    }
   ],
   "source": [
    "mean_squared_error(y_test, preds_exog)"
   ]
  },
  {
   "cell_type": "code",
   "execution_count": 60,
   "metadata": {},
   "outputs": [
    {
     "data": {
      "text/plain": [
       "0.2879798284301683"
      ]
     },
     "execution_count": 60,
     "metadata": {},
     "output_type": "execute_result"
    }
   ],
   "source": [
    "(mean_squared_error(y_test, preds_baseline) - mean_squared_error(y_test, preds_exog)) / mean_squared_error(y_test, preds_baseline)"
   ]
  },
  {
   "cell_type": "code",
   "execution_count": null,
   "metadata": {},
   "outputs": [],
   "source": []
  }
 ],
 "metadata": {
  "kernelspec": {
   "display_name": "Python 3",
   "language": "python",
   "name": "python3"
  },
  "language_info": {
   "codemirror_mode": {
    "name": "ipython",
    "version": 3
   },
   "file_extension": ".py",
   "mimetype": "text/x-python",
   "name": "python",
   "nbconvert_exporter": "python",
   "pygments_lexer": "ipython3",
   "version": "3.7.7"
  }
 },
 "nbformat": 4,
 "nbformat_minor": 4
}
